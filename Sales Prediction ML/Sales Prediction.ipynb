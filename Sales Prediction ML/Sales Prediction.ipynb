{
 "cells": [
  {
   "cell_type": "markdown",
   "id": "e36a1c40",
   "metadata": {},
   "source": [
    "## Sales Prediction using Machine Learning"
   ]
  },
  {
   "cell_type": "markdown",
   "id": "e52177e6",
   "metadata": {},
   "source": [
    "### Forecasting sales is a difficult problem for every type of business, but it helps determine where a business should spend more on advertising and where it should cut spending.\n",
    "\n",
    "### Problem Statement\n",
    "Build a model which predicts sales based on the money spent on different platforms for marketing, given the dataset advertising.csv\n",
    "\n",
    "#### Data\n",
    "The advertising dataset given in ISLR, to analyse the relationship between media and 'sales' using a simple linear regression model."
   ]
  },
  {
   "cell_type": "code",
   "execution_count": 5,
   "id": "4bc01bd7",
   "metadata": {},
   "outputs": [],
   "source": [
    "# Import the Libraries\n",
    "\n",
    "import pandas as pd\n",
    "import numpy as np\n",
    "import matplotlib.pyplot as plt\n",
    "import seaborn as sns\n",
    "from sklearn.model_selection import train_test_split\n",
    "from sklearn.linear_model import LinearRegression"
   ]
  },
  {
   "cell_type": "code",
   "execution_count": 2,
   "id": "f56e0e41",
   "metadata": {},
   "outputs": [],
   "source": [
    "data = pd.read_csv('advertising.csv')"
   ]
  },
  {
   "cell_type": "code",
   "execution_count": 3,
   "id": "f8f9f385",
   "metadata": {},
   "outputs": [
    {
     "data": {
      "text/html": [
       "<div>\n",
       "<style scoped>\n",
       "    .dataframe tbody tr th:only-of-type {\n",
       "        vertical-align: middle;\n",
       "    }\n",
       "\n",
       "    .dataframe tbody tr th {\n",
       "        vertical-align: top;\n",
       "    }\n",
       "\n",
       "    .dataframe thead th {\n",
       "        text-align: right;\n",
       "    }\n",
       "</style>\n",
       "<table border=\"1\" class=\"dataframe\">\n",
       "  <thead>\n",
       "    <tr style=\"text-align: right;\">\n",
       "      <th></th>\n",
       "      <th>TV</th>\n",
       "      <th>Radio</th>\n",
       "      <th>Newspaper</th>\n",
       "      <th>Sales</th>\n",
       "    </tr>\n",
       "  </thead>\n",
       "  <tbody>\n",
       "    <tr>\n",
       "      <th>0</th>\n",
       "      <td>230.1</td>\n",
       "      <td>37.8</td>\n",
       "      <td>69.2</td>\n",
       "      <td>22.1</td>\n",
       "    </tr>\n",
       "    <tr>\n",
       "      <th>1</th>\n",
       "      <td>44.5</td>\n",
       "      <td>39.3</td>\n",
       "      <td>45.1</td>\n",
       "      <td>10.4</td>\n",
       "    </tr>\n",
       "    <tr>\n",
       "      <th>2</th>\n",
       "      <td>17.2</td>\n",
       "      <td>45.9</td>\n",
       "      <td>69.3</td>\n",
       "      <td>12.0</td>\n",
       "    </tr>\n",
       "    <tr>\n",
       "      <th>3</th>\n",
       "      <td>151.5</td>\n",
       "      <td>41.3</td>\n",
       "      <td>58.5</td>\n",
       "      <td>16.5</td>\n",
       "    </tr>\n",
       "    <tr>\n",
       "      <th>4</th>\n",
       "      <td>180.8</td>\n",
       "      <td>10.8</td>\n",
       "      <td>58.4</td>\n",
       "      <td>17.9</td>\n",
       "    </tr>\n",
       "  </tbody>\n",
       "</table>\n",
       "</div>"
      ],
      "text/plain": [
       "      TV  Radio  Newspaper  Sales\n",
       "0  230.1   37.8       69.2   22.1\n",
       "1   44.5   39.3       45.1   10.4\n",
       "2   17.2   45.9       69.3   12.0\n",
       "3  151.5   41.3       58.5   16.5\n",
       "4  180.8   10.8       58.4   17.9"
      ]
     },
     "execution_count": 3,
     "metadata": {},
     "output_type": "execute_result"
    }
   ],
   "source": [
    "data.head()"
   ]
  },
  {
   "cell_type": "code",
   "execution_count": 4,
   "id": "2eb87d72",
   "metadata": {},
   "outputs": [
    {
     "data": {
      "text/html": [
       "<div>\n",
       "<style scoped>\n",
       "    .dataframe tbody tr th:only-of-type {\n",
       "        vertical-align: middle;\n",
       "    }\n",
       "\n",
       "    .dataframe tbody tr th {\n",
       "        vertical-align: top;\n",
       "    }\n",
       "\n",
       "    .dataframe thead th {\n",
       "        text-align: right;\n",
       "    }\n",
       "</style>\n",
       "<table border=\"1\" class=\"dataframe\">\n",
       "  <thead>\n",
       "    <tr style=\"text-align: right;\">\n",
       "      <th></th>\n",
       "      <th>TV</th>\n",
       "      <th>Radio</th>\n",
       "      <th>Newspaper</th>\n",
       "      <th>Sales</th>\n",
       "    </tr>\n",
       "  </thead>\n",
       "  <tbody>\n",
       "    <tr>\n",
       "      <th>195</th>\n",
       "      <td>38.2</td>\n",
       "      <td>3.7</td>\n",
       "      <td>13.8</td>\n",
       "      <td>7.6</td>\n",
       "    </tr>\n",
       "    <tr>\n",
       "      <th>196</th>\n",
       "      <td>94.2</td>\n",
       "      <td>4.9</td>\n",
       "      <td>8.1</td>\n",
       "      <td>14.0</td>\n",
       "    </tr>\n",
       "    <tr>\n",
       "      <th>197</th>\n",
       "      <td>177.0</td>\n",
       "      <td>9.3</td>\n",
       "      <td>6.4</td>\n",
       "      <td>14.8</td>\n",
       "    </tr>\n",
       "    <tr>\n",
       "      <th>198</th>\n",
       "      <td>283.6</td>\n",
       "      <td>42.0</td>\n",
       "      <td>66.2</td>\n",
       "      <td>25.5</td>\n",
       "    </tr>\n",
       "    <tr>\n",
       "      <th>199</th>\n",
       "      <td>232.1</td>\n",
       "      <td>8.6</td>\n",
       "      <td>8.7</td>\n",
       "      <td>18.4</td>\n",
       "    </tr>\n",
       "  </tbody>\n",
       "</table>\n",
       "</div>"
      ],
      "text/plain": [
       "        TV  Radio  Newspaper  Sales\n",
       "195   38.2    3.7       13.8    7.6\n",
       "196   94.2    4.9        8.1   14.0\n",
       "197  177.0    9.3        6.4   14.8\n",
       "198  283.6   42.0       66.2   25.5\n",
       "199  232.1    8.6        8.7   18.4"
      ]
     },
     "execution_count": 4,
     "metadata": {},
     "output_type": "execute_result"
    }
   ],
   "source": [
    "data.tail()"
   ]
  },
  {
   "cell_type": "code",
   "execution_count": 6,
   "id": "172e5f30",
   "metadata": {},
   "outputs": [
    {
     "name": "stdout",
     "output_type": "stream",
     "text": [
      "Shape of Data:  (200, 4)\n"
     ]
    }
   ],
   "source": [
    "# Shape of Data\n",
    "print(\"Shape of Data: \", data.shape)"
   ]
  },
  {
   "cell_type": "markdown",
   "id": "fbe8ffbf",
   "metadata": {},
   "source": [
    "### Analyzing data"
   ]
  },
  {
   "cell_type": "code",
   "execution_count": 10,
   "id": "adbfc143",
   "metadata": {},
   "outputs": [
    {
     "name": "stdout",
     "output_type": "stream",
     "text": [
      "Null Values :\n",
      " TV           0\n",
      "Radio        0\n",
      "Newspaper    0\n",
      "Sales        0\n",
      "dtype: int64\n"
     ]
    }
   ],
   "source": [
    "# Checking for null values\n",
    "print(\"Null Values :\\n\",data.isnull().sum())"
   ]
  },
  {
   "cell_type": "markdown",
   "id": "21f0356a",
   "metadata": {},
   "source": [
    "There are no NULL values in the dataset, hence we can say it is clean."
   ]
  },
  {
   "cell_type": "code",
   "execution_count": 66,
   "id": "61f69186",
   "metadata": {},
   "outputs": [
    {
     "data": {
      "image/png": "[encoded data removed]",
      "text/plain": [
       "<Figure size 432x288 with 2 Axes>"
      ]
     },
     "metadata": {
      "needs_background": "light"
     },
     "output_type": "display_data"
    }
   ],
   "source": [
    "# Checking the correlation between different variables in the dataset.\n",
    "sns.heatmap(data.corr(), cmap=\"YlGnBu\", annot = True)\n",
    "plt.show()"
   ]
  },
  {
   "cell_type": "markdown",
   "id": "085f51f2",
   "metadata": {},
   "source": [
    "### Model Building\n"
   ]
  },
  {
   "cell_type": "code",
   "execution_count": 119,
   "id": "9361d799",
   "metadata": {},
   "outputs": [],
   "source": [
    "X = np.array(data.drop([\"Sales\"], 1))\n",
    "y = np.array(data[\"Sales\"])"
   ]
  },
  {
   "cell_type": "code",
   "execution_count": 125,
   "id": "4f52cb72",
   "metadata": {},
   "outputs": [],
   "source": [
    "# Train Test Splitting the data\n",
    "\n",
    "X_train, X_test, y_train, y_test = train_test_split(X, y, train_size = 0.7, test_size = 0.3, random_state = 42)"
   ]
  },
  {
   "cell_type": "code",
   "execution_count": 126,
   "id": "43a7c085",
   "metadata": {},
   "outputs": [
    {
     "data": {
      "text/plain": [
       "LinearRegression(copy_X=True, fit_intercept=True, n_jobs=None, normalize=False)"
      ]
     },
     "execution_count": 126,
     "metadata": {},
     "output_type": "execute_result"
    }
   ],
   "source": [
    "# Fitting the data to Linear Regression Model\n",
    "\n",
    "model = LinearRegression()\n",
    "model.fit(X_train, y_train)"
   ]
  },
  {
   "cell_type": "code",
   "execution_count": 127,
   "id": "e34b1651",
   "metadata": {},
   "outputs": [],
   "source": [
    "# Predicting the sales for test data\n",
    "y_pred = model.predict(X_test)"
   ]
  },
  {
   "cell_type": "code",
   "execution_count": 128,
   "id": "8d2481c9",
   "metadata": {},
   "outputs": [
    {
     "data": {
      "text/plain": [
       "array([17.15991908, 20.53369503, 23.68914396,  9.5191455 , 21.60736836,\n",
       "       12.78101318, 21.08636345,  8.76054246, 17.11499951, 16.68789636,\n",
       "        8.97584663,  8.57645026, 18.33212325,  8.17863567, 12.64605571,\n",
       "       14.94486946,  8.34939536, 17.83858948, 11.12172174, 20.37740648,\n",
       "       20.9483297 , 13.04035779, 11.01360656, 22.51142595,  9.40369784,\n",
       "        7.98591291, 20.86943368, 13.77882255, 10.83407064,  8.00419229,\n",
       "       15.88597618, 10.7027424 , 20.9521718 , 10.84679243, 21.50720813,\n",
       "       21.07347295, 12.22673775, 22.85273767, 12.57698182,  6.54597206,\n",
       "       11.93411853, 15.23490068, 10.07411153,  9.52159696, 17.11786382,\n",
       "        7.28032677, 10.49404864, 15.24356754, 11.20742176, 11.78392665,\n",
       "       14.01472163, 14.59884572, 10.82722434,  9.55839415,  9.03749681,\n",
       "       12.51183313, 10.52551021, 25.01900824,  7.99334943, 15.73916263])"
      ]
     },
     "execution_count": 128,
     "metadata": {},
     "output_type": "execute_result"
    }
   ],
   "source": [
    "y_pred"
   ]
  },
  {
   "cell_type": "code",
   "execution_count": 129,
   "id": "0456f302",
   "metadata": {},
   "outputs": [
    {
     "data": {
      "text/plain": [
       "1.5942471691143592"
      ]
     },
     "execution_count": 129,
     "metadata": {},
     "output_type": "execute_result"
    }
   ],
   "source": [
    "# Checking the RMSE Error\n",
    "from sklearn.metrics import mean_squared_error\n",
    "\n",
    "np.sqrt(mean_squared_error(y_test, y_pred))"
   ]
  }
 ],
 "metadata": {
  "kernelspec": {
   "display_name": "Python 3",
   "language": "python",
   "name": "python3"
  },
  "language_info": {
   "codemirror_mode": {
    "name": "ipython",
    "version": 3
   },
   "file_extension": ".py",
   "mimetype": "text/x-python",
   "name": "python",
   "nbconvert_exporter": "python",
   "pygments_lexer": "ipython3",
   "version": "3.7.3"
  }
 },
 "nbformat": 4,
 "nbformat_minor": 5
}
