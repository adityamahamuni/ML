{
 "cells": [
  {
   "cell_type": "code",
   "execution_count": 1,
   "id": "010c483b",
   "metadata": {},
   "outputs": [],
   "source": [
    "# Import Libraries\n",
    "\n",
    "import pandas as pd\n",
    "import numpy as np\n",
    "import matplotlib.pyplot as plt\n",
    "\n",
    "import seaborn as sns\n",
    "from sklearn import metrics"
   ]
  },
  {
   "cell_type": "markdown",
   "id": "9ce9e02a",
   "metadata": {},
   "source": [
    "### 1. Read the data and print the data"
   ]
  },
  {
   "cell_type": "code",
   "execution_count": 2,
   "id": "589db6c5",
   "metadata": {},
   "outputs": [
    {
     "name": "stdout",
     "output_type": "stream",
     "text": [
      "Data :\n",
      "      Cancer Site  Year         Sex       Age  \\\n",
      "0       AllSites  2010  Both sexes  All ages   \n",
      "1       AllSites  2010  Both sexes  All ages   \n",
      "2       AllSites  2010  Both sexes  All ages   \n",
      "3       AllSites  2010  Both sexes  All ages   \n",
      "4       AllSites  2010  Both sexes  All ages   \n",
      "...          ...   ...         ...       ...   \n",
      "1249       Other  2020  Both sexes  All ages   \n",
      "1250       Other  2020  Both sexes  All ages   \n",
      "1251       Other  2020  Both sexes  All ages   \n",
      "1252       Other  2020  Both sexes  All ages   \n",
      "1253       Other  2020  Both sexes  All ages   \n",
      "\n",
      "                     Incidence and Survival Assumptions  \\\n",
      "0                  Incidence, Survival at constant rate   \n",
      "1     Incidence follows recent trend, Survival constant   \n",
      "2     Survival follows recent trend, Incidence constant   \n",
      "3              Incidence, Survival follow recent trends   \n",
      "4              Incidence, Survival follow recent trends   \n",
      "...                                                 ...   \n",
      "1249  Incidence follows recent trend, Survival constant   \n",
      "1250  Survival follows recent trend, Incidence constant   \n",
      "1251           Incidence, Survival follow recent trends   \n",
      "1252           Incidence, Survival follow recent trends   \n",
      "1253           Incidence, Survival follow recent trends   \n",
      "\n",
      "     Annual Cost Increase (applied to initial and last phases)  Total Costs  \\\n",
      "0                                                    0%            124565.6   \n",
      "1                                                    0%            122420.8   \n",
      "2                                                    0%            125397.7   \n",
      "3                                                    0%            123236.3   \n",
      "4                                                    2%            123236.3   \n",
      "...                                                 ...                 ...   \n",
      "1249                                                 0%             26945.7   \n",
      "1250                                                 0%             29975.9   \n",
      "1251                                                 0%             30892.3   \n",
      "1252                                                 2%             33201.2   \n",
      "1253                                                 5%             37522.8   \n",
      "\n",
      "      Initial Year After Diagnosis Cost  Continuing Phase Cost  \\\n",
      "0                               40463.5                46642.8   \n",
      "1                               38552.7                46671.9   \n",
      "2                               40463.5                47136.3   \n",
      "3                               38552.7                47155.7   \n",
      "4                               38552.7                47155.7   \n",
      "...                                 ...                    ...   \n",
      "1249                             4432.4                14156.5   \n",
      "1250                             4466.2                17675.7   \n",
      "1251                             4432.4                17275.7   \n",
      "1252                             5403.1                17275.7   \n",
      "1253                             7219.9                17275.7   \n",
      "\n",
      "      Last Year of Life Cost  \n",
      "0                    37459.2  \n",
      "1                    37196.3  \n",
      "2                    37797.9  \n",
      "3                    37527.8  \n",
      "4                    37527.8  \n",
      "...                      ...  \n",
      "1249                  8356.8  \n",
      "1250                  7834.0  \n",
      "1251                  9184.3  \n",
      "1252                 10522.5  \n",
      "1253                 13027.2  \n",
      "\n",
      "[1254 rows x 10 columns]\n"
     ]
    }
   ],
   "source": [
    "data = pd.read_csv('Cancertreatmentdataset.csv', skiprows=3)\n",
    "print(\"Data :\\n\", data)"
   ]
  },
  {
   "cell_type": "markdown",
   "id": "817f9963",
   "metadata": {},
   "source": [
    "### 2. Display the head of data"
   ]
  },
  {
   "cell_type": "code",
   "execution_count": 3,
   "id": "38ad569a",
   "metadata": {},
   "outputs": [
    {
     "name": "stdout",
     "output_type": "stream",
     "text": [
      "  Cancer Site  Year         Sex       Age  \\\n",
      "0    AllSites  2010  Both sexes  All ages   \n",
      "1    AllSites  2010  Both sexes  All ages   \n",
      "2    AllSites  2010  Both sexes  All ages   \n",
      "3    AllSites  2010  Both sexes  All ages   \n",
      "4    AllSites  2010  Both sexes  All ages   \n",
      "\n",
      "                  Incidence and Survival Assumptions  \\\n",
      "0               Incidence, Survival at constant rate   \n",
      "1  Incidence follows recent trend, Survival constant   \n",
      "2  Survival follows recent trend, Incidence constant   \n",
      "3           Incidence, Survival follow recent trends   \n",
      "4           Incidence, Survival follow recent trends   \n",
      "\n",
      "  Annual Cost Increase (applied to initial and last phases)  Total Costs  \\\n",
      "0                                                 0%            124565.6   \n",
      "1                                                 0%            122420.8   \n",
      "2                                                 0%            125397.7   \n",
      "3                                                 0%            123236.3   \n",
      "4                                                 2%            123236.3   \n",
      "\n",
      "   Initial Year After Diagnosis Cost  Continuing Phase Cost  \\\n",
      "0                            40463.5                46642.8   \n",
      "1                            38552.7                46671.9   \n",
      "2                            40463.5                47136.3   \n",
      "3                            38552.7                47155.7   \n",
      "4                            38552.7                47155.7   \n",
      "\n",
      "   Last Year of Life Cost  \n",
      "0                 37459.2  \n",
      "1                 37196.3  \n",
      "2                 37797.9  \n",
      "3                 37527.8  \n",
      "4                 37527.8  \n"
     ]
    }
   ],
   "source": [
    "print(data.head())"
   ]
  },
  {
   "cell_type": "markdown",
   "id": "b6554d99",
   "metadata": {},
   "source": [
    "### 3. Display the tail of data"
   ]
  },
  {
   "cell_type": "code",
   "execution_count": 4,
   "id": "4321b0fa",
   "metadata": {},
   "outputs": [
    {
     "name": "stdout",
     "output_type": "stream",
     "text": [
      "     Cancer Site  Year         Sex       Age  \\\n",
      "1249       Other  2020  Both sexes  All ages   \n",
      "1250       Other  2020  Both sexes  All ages   \n",
      "1251       Other  2020  Both sexes  All ages   \n",
      "1252       Other  2020  Both sexes  All ages   \n",
      "1253       Other  2020  Both sexes  All ages   \n",
      "\n",
      "                     Incidence and Survival Assumptions  \\\n",
      "1249  Incidence follows recent trend, Survival constant   \n",
      "1250  Survival follows recent trend, Incidence constant   \n",
      "1251           Incidence, Survival follow recent trends   \n",
      "1252           Incidence, Survival follow recent trends   \n",
      "1253           Incidence, Survival follow recent trends   \n",
      "\n",
      "     Annual Cost Increase (applied to initial and last phases)  Total Costs  \\\n",
      "1249                                                 0%             26945.7   \n",
      "1250                                                 0%             29975.9   \n",
      "1251                                                 0%             30892.3   \n",
      "1252                                                 2%             33201.2   \n",
      "1253                                                 5%             37522.8   \n",
      "\n",
      "      Initial Year After Diagnosis Cost  Continuing Phase Cost  \\\n",
      "1249                             4432.4                14156.5   \n",
      "1250                             4466.2                17675.7   \n",
      "1251                             4432.4                17275.7   \n",
      "1252                             5403.1                17275.7   \n",
      "1253                             7219.9                17275.7   \n",
      "\n",
      "      Last Year of Life Cost  \n",
      "1249                  8356.8  \n",
      "1250                  7834.0  \n",
      "1251                  9184.3  \n",
      "1252                 10522.5  \n",
      "1253                 13027.2  \n"
     ]
    }
   ],
   "source": [
    "print(data.tail())"
   ]
  },
  {
   "cell_type": "markdown",
   "id": "f97773d6",
   "metadata": {},
   "source": [
    "### 4. Checking for null values and  duplicate values"
   ]
  },
  {
   "cell_type": "code",
   "execution_count": 5,
   "id": "39cae4a1",
   "metadata": {},
   "outputs": [
    {
     "name": "stdout",
     "output_type": "stream",
     "text": [
      "Null Values : \n",
      " Cancer Site                                                  0\n",
      "Year                                                         0\n",
      "Sex                                                          0\n",
      "Age                                                          0\n",
      "Incidence and Survival Assumptions                           0\n",
      "Annual Cost Increase (applied to initial and last phases)    0\n",
      "Total Costs                                                  0\n",
      "Initial Year After Diagnosis Cost                            0\n",
      "Continuing Phase Cost                                        0\n",
      "Last Year of Life Cost                                       0\n",
      "dtype: int64\n"
     ]
    }
   ],
   "source": [
    "print(\"Null Values : \\n\",data.isnull().sum())"
   ]
  },
  {
   "cell_type": "code",
   "execution_count": 6,
   "id": "52e336bc",
   "metadata": {},
   "outputs": [
    {
     "name": "stdout",
     "output_type": "stream",
     "text": [
      "Duplicate Values for each column : \n",
      "\n",
      "Cancer Site - False\n",
      "Year - False\n",
      "Sex - False\n",
      "Age - False\n",
      "Incidence and Survival Assumptions - False\n",
      "Annual Cost Increase (applied to initial and last phases) - False\n",
      "Total Costs - False\n",
      "Initial Year After Diagnosis Cost - False\n",
      "Continuing Phase Cost - False\n",
      "Last Year of Life Cost - False\n"
     ]
    }
   ],
   "source": [
    "print(\"Duplicate Values for each column : \\n\")\n",
    "for col in data.columns:\n",
    "    print(col, \"-\", data[col].is_unique)"
   ]
  },
  {
   "cell_type": "markdown",
   "id": "7fd0e23c",
   "metadata": {},
   "source": [
    "### 5. Display Gender-wise total costs"
   ]
  },
  {
   "cell_type": "code",
   "execution_count": 7,
   "id": "7c89890e",
   "metadata": {},
   "outputs": [
    {
     "data": {
      "text/plain": [
       "<matplotlib.axes._subplots.AxesSubplot at 0x23841b0a630>"
      ]
     },
     "execution_count": 7,
     "metadata": {},
     "output_type": "execute_result"
    },
    {
     "data": {
      "image/png": "[encoded data removed]",
      "text/plain": [
       "<Figure size 432x288 with 1 Axes>"
      ]
     },
     "metadata": {
      "needs_background": "light"
     },
     "output_type": "display_data"
    }
   ],
   "source": [
    "sns.barplot(x=\"Sex\", y=\"Total Costs\", data=data)"
   ]
  },
  {
   "cell_type": "markdown",
   "id": "4c5ad516",
   "metadata": {},
   "source": [
    "### 6. Display Gender-wise Annual cost increase"
   ]
  },
  {
   "cell_type": "code",
   "execution_count": 8,
   "id": "96ee272e",
   "metadata": {},
   "outputs": [
    {
     "data": {
      "text/plain": [
       "<matplotlib.axes._subplots.AxesSubplot at 0x23846f3a3c8>"
      ]
     },
     "execution_count": 8,
     "metadata": {},
     "output_type": "execute_result"
    },
    {
     "data": {
      "image/png": "[encoded data removed]",
      "text/plain": [
       "<Figure size 432x288 with 1 Axes>"
      ]
     },
     "metadata": {
      "needs_background": "light"
     },
     "output_type": "display_data"
    }
   ],
   "source": [
    "annual_cost = []\n",
    "data_copy = data.copy()\n",
    "for i, elem in enumerate(data_copy['Annual Cost Increase (applied to initial and last phases)']):\n",
    "     annual_cost.append(int(elem.split('%')[0]))\n",
    "    \n",
    "data_copy['Annual Cost Increase (applied to initial and last phases)'] = annual_cost\n",
    "sns.countplot(x=\"Sex\", hue=\"Annual Cost Increase (applied to initial and last phases)\", data=data_copy)"
   ]
  },
  {
   "cell_type": "markdown",
   "id": "dc69038f",
   "metadata": {},
   "source": [
    "### 7. Apply best suitable ML algorithm that you may know to predict the total cost in future"
   ]
  },
  {
   "cell_type": "code",
   "execution_count": 9,
   "id": "643ae682",
   "metadata": {},
   "outputs": [
    {
     "name": "stdout",
     "output_type": "stream",
     "text": [
      "<class 'pandas.core.frame.DataFrame'>\n",
      "RangeIndex: 1254 entries, 0 to 1253\n",
      "Data columns (total 10 columns):\n",
      "Cancer Site                                                  1254 non-null object\n",
      "Year                                                         1254 non-null int64\n",
      "Sex                                                          1254 non-null object\n",
      "Age                                                          1254 non-null object\n",
      "Incidence and Survival Assumptions                           1254 non-null object\n",
      "Annual Cost Increase (applied to initial and last phases)    1254 non-null object\n",
      "Total Costs                                                  1254 non-null float64\n",
      "Initial Year After Diagnosis Cost                            1254 non-null float64\n",
      "Continuing Phase Cost                                        1254 non-null float64\n",
      "Last Year of Life Cost                                       1254 non-null float64\n",
      "dtypes: float64(4), int64(1), object(5)\n",
      "memory usage: 98.1+ KB\n"
     ]
    }
   ],
   "source": [
    "data.info()"
   ]
  },
  {
   "cell_type": "code",
   "execution_count": 10,
   "id": "d27c38e2",
   "metadata": {},
   "outputs": [
    {
     "data": {
      "text/html": [
       "<div>\n",
       "<style scoped>\n",
       "    .dataframe tbody tr th:only-of-type {\n",
       "        vertical-align: middle;\n",
       "    }\n",
       "\n",
       "    .dataframe tbody tr th {\n",
       "        vertical-align: top;\n",
       "    }\n",
       "\n",
       "    .dataframe thead th {\n",
       "        text-align: right;\n",
       "    }\n",
       "</style>\n",
       "<table border=\"1\" class=\"dataframe\">\n",
       "  <thead>\n",
       "    <tr style=\"text-align: right;\">\n",
       "      <th></th>\n",
       "      <th>Cancer Site</th>\n",
       "      <th>Year</th>\n",
       "      <th>Sex</th>\n",
       "      <th>Age</th>\n",
       "      <th>Incidence and Survival Assumptions</th>\n",
       "      <th>Annual Cost Increase (applied to initial and last phases)</th>\n",
       "      <th>Total Costs</th>\n",
       "      <th>Initial Year After Diagnosis Cost</th>\n",
       "      <th>Continuing Phase Cost</th>\n",
       "      <th>Last Year of Life Cost</th>\n",
       "    </tr>\n",
       "  </thead>\n",
       "  <tbody>\n",
       "    <tr>\n",
       "      <th>0</th>\n",
       "      <td>AllSites</td>\n",
       "      <td>2010</td>\n",
       "      <td>Both sexes</td>\n",
       "      <td>All ages</td>\n",
       "      <td>Incidence, Survival at constant rate</td>\n",
       "      <td>0%</td>\n",
       "      <td>124565.6</td>\n",
       "      <td>40463.5</td>\n",
       "      <td>46642.8</td>\n",
       "      <td>37459.2</td>\n",
       "    </tr>\n",
       "    <tr>\n",
       "      <th>1</th>\n",
       "      <td>AllSites</td>\n",
       "      <td>2010</td>\n",
       "      <td>Both sexes</td>\n",
       "      <td>All ages</td>\n",
       "      <td>Incidence follows recent trend, Survival constant</td>\n",
       "      <td>0%</td>\n",
       "      <td>122420.8</td>\n",
       "      <td>38552.7</td>\n",
       "      <td>46671.9</td>\n",
       "      <td>37196.3</td>\n",
       "    </tr>\n",
       "    <tr>\n",
       "      <th>2</th>\n",
       "      <td>AllSites</td>\n",
       "      <td>2010</td>\n",
       "      <td>Both sexes</td>\n",
       "      <td>All ages</td>\n",
       "      <td>Survival follows recent trend, Incidence constant</td>\n",
       "      <td>0%</td>\n",
       "      <td>125397.7</td>\n",
       "      <td>40463.5</td>\n",
       "      <td>47136.3</td>\n",
       "      <td>37797.9</td>\n",
       "    </tr>\n",
       "    <tr>\n",
       "      <th>3</th>\n",
       "      <td>AllSites</td>\n",
       "      <td>2010</td>\n",
       "      <td>Both sexes</td>\n",
       "      <td>All ages</td>\n",
       "      <td>Incidence, Survival follow recent trends</td>\n",
       "      <td>0%</td>\n",
       "      <td>123236.3</td>\n",
       "      <td>38552.7</td>\n",
       "      <td>47155.7</td>\n",
       "      <td>37527.8</td>\n",
       "    </tr>\n",
       "    <tr>\n",
       "      <th>4</th>\n",
       "      <td>AllSites</td>\n",
       "      <td>2010</td>\n",
       "      <td>Both sexes</td>\n",
       "      <td>All ages</td>\n",
       "      <td>Incidence, Survival follow recent trends</td>\n",
       "      <td>2%</td>\n",
       "      <td>123236.3</td>\n",
       "      <td>38552.7</td>\n",
       "      <td>47155.7</td>\n",
       "      <td>37527.8</td>\n",
       "    </tr>\n",
       "  </tbody>\n",
       "</table>\n",
       "</div>"
      ],
      "text/plain": [
       "  Cancer Site  Year         Sex       Age  \\\n",
       "0    AllSites  2010  Both sexes  All ages   \n",
       "1    AllSites  2010  Both sexes  All ages   \n",
       "2    AllSites  2010  Both sexes  All ages   \n",
       "3    AllSites  2010  Both sexes  All ages   \n",
       "4    AllSites  2010  Both sexes  All ages   \n",
       "\n",
       "                  Incidence and Survival Assumptions  \\\n",
       "0               Incidence, Survival at constant rate   \n",
       "1  Incidence follows recent trend, Survival constant   \n",
       "2  Survival follows recent trend, Incidence constant   \n",
       "3           Incidence, Survival follow recent trends   \n",
       "4           Incidence, Survival follow recent trends   \n",
       "\n",
       "  Annual Cost Increase (applied to initial and last phases)  Total Costs  \\\n",
       "0                                                 0%            124565.6   \n",
       "1                                                 0%            122420.8   \n",
       "2                                                 0%            125397.7   \n",
       "3                                                 0%            123236.3   \n",
       "4                                                 2%            123236.3   \n",
       "\n",
       "   Initial Year After Diagnosis Cost  Continuing Phase Cost  \\\n",
       "0                            40463.5                46642.8   \n",
       "1                            38552.7                46671.9   \n",
       "2                            40463.5                47136.3   \n",
       "3                            38552.7                47155.7   \n",
       "4                            38552.7                47155.7   \n",
       "\n",
       "   Last Year of Life Cost  \n",
       "0                 37459.2  \n",
       "1                 37196.3  \n",
       "2                 37797.9  \n",
       "3                 37527.8  \n",
       "4                 37527.8  "
      ]
     },
     "execution_count": 10,
     "metadata": {},
     "output_type": "execute_result"
    }
   ],
   "source": [
    "data.head()"
   ]
  },
  {
   "cell_type": "code",
   "execution_count": 11,
   "id": "ea6ddcbe",
   "metadata": {},
   "outputs": [],
   "source": [
    "categorical = ['Cancer Site', 'Sex', 'Age', 'Incidence and Survival Assumptions']"
   ]
  },
  {
   "cell_type": "code",
   "execution_count": 12,
   "id": "3362e86e",
   "metadata": {},
   "outputs": [],
   "source": [
    "from sklearn import preprocessing\n",
    "\n",
    "for col in data.columns:\n",
    "    if col in categorical:\n",
    "        dummy = pd.get_dummies(data[[col]])\n",
    "        data = pd.concat([data, dummy], axis=1)\n",
    "        \n",
    "        data = data.drop([col], axis=1)"
   ]
  },
  {
   "cell_type": "code",
   "execution_count": 13,
   "id": "8b60ad15",
   "metadata": {},
   "outputs": [],
   "source": [
    "annual_cost = []\n",
    "for i, elem in enumerate(data['Annual Cost Increase (applied to initial and last phases)']):\n",
    "     annual_cost.append(int(elem.split('%')[0]))\n",
    "    \n",
    "data['Annual Cost Increase (applied to initial and last phases)'] = annual_cost"
   ]
  },
  {
   "cell_type": "code",
   "execution_count": 14,
   "id": "90d795f3",
   "metadata": {},
   "outputs": [
    {
     "name": "stdout",
     "output_type": "stream",
     "text": [
      "Corr Shape :  (33, 33)\n"
     ]
    },
    {
     "data": {
      "image/png": "[encoded data removed]",
      "text/plain": [
       "<Figure size 864x720 with 2 Axes>"
      ]
     },
     "metadata": {
      "needs_background": "light"
     },
     "output_type": "display_data"
    }
   ],
   "source": [
    "corr = data.corr()\n",
    "plt.figure(figsize=(12,10))\n",
    "sns.heatmap(corr, annot=False,linewidths=1,robust=True)\n",
    "print(\"Corr Shape : \",corr.shape)"
   ]
  },
  {
   "cell_type": "code",
   "execution_count": 15,
   "id": "69e97a0f",
   "metadata": {},
   "outputs": [
    {
     "name": "stdout",
     "output_type": "stream",
     "text": [
      "<class 'pandas.core.frame.DataFrame'>\n",
      "RangeIndex: 1254 entries, 0 to 1253\n",
      "Data columns (total 33 columns):\n",
      "Year                                                                                    1254 non-null int64\n",
      "Annual Cost Increase (applied to initial and last phases)                               1254 non-null int64\n",
      "Total Costs                                                                             1254 non-null float64\n",
      "Initial Year After Diagnosis Cost                                                       1254 non-null float64\n",
      "Continuing Phase Cost                                                                   1254 non-null float64\n",
      "Last Year of Life Cost                                                                  1254 non-null float64\n",
      "Cancer Site_AllSites                                                                    1254 non-null uint8\n",
      "Cancer Site_Bladder                                                                     1254 non-null uint8\n",
      "Cancer Site_Brain                                                                       1254 non-null uint8\n",
      "Cancer Site_Breast                                                                      1254 non-null uint8\n",
      "Cancer Site_Cervix                                                                      1254 non-null uint8\n",
      "Cancer Site_Colorectal                                                                  1254 non-null uint8\n",
      "Cancer Site_Esophagus                                                                   1254 non-null uint8\n",
      "Cancer Site_Head_Neck                                                                   1254 non-null uint8\n",
      "Cancer Site_Kidney                                                                      1254 non-null uint8\n",
      "Cancer Site_Leukemia                                                                    1254 non-null uint8\n",
      "Cancer Site_Lung                                                                        1254 non-null uint8\n",
      "Cancer Site_Lymphoma                                                                    1254 non-null uint8\n",
      "Cancer Site_Melanoma                                                                    1254 non-null uint8\n",
      "Cancer Site_Other                                                                       1254 non-null uint8\n",
      "Cancer Site_Ovary                                                                       1254 non-null uint8\n",
      "Cancer Site_Pancreas                                                                    1254 non-null uint8\n",
      "Cancer Site_Prostate                                                                    1254 non-null uint8\n",
      "Cancer Site_Stomach                                                                     1254 non-null uint8\n",
      "Cancer Site_Uterus                                                                      1254 non-null uint8\n",
      "Sex_Both sexes                                                                          1254 non-null uint8\n",
      "Sex_Females                                                                             1254 non-null uint8\n",
      "Sex_Males                                                                               1254 non-null uint8\n",
      "Age_All ages                                                                            1254 non-null uint8\n",
      "Incidence and Survival Assumptions_Incidence follows recent trend, Survival constant    1254 non-null uint8\n",
      "Incidence and Survival Assumptions_Incidence, Survival at constant rate                 1254 non-null uint8\n",
      "Incidence and Survival Assumptions_Incidence, Survival follow recent trends             1254 non-null uint8\n",
      "Incidence and Survival Assumptions_Survival follows recent trend, Incidence constant    1254 non-null uint8\n",
      "dtypes: float64(4), int64(2), uint8(27)\n",
      "memory usage: 92.0 KB\n"
     ]
    }
   ],
   "source": [
    "data.info()"
   ]
  },
  {
   "cell_type": "code",
   "execution_count": 16,
   "id": "4f611ade",
   "metadata": {},
   "outputs": [
    {
     "data": {
      "text/html": [
       "<div>\n",
       "<style scoped>\n",
       "    .dataframe tbody tr th:only-of-type {\n",
       "        vertical-align: middle;\n",
       "    }\n",
       "\n",
       "    .dataframe tbody tr th {\n",
       "        vertical-align: top;\n",
       "    }\n",
       "\n",
       "    .dataframe thead th {\n",
       "        text-align: right;\n",
       "    }\n",
       "</style>\n",
       "<table border=\"1\" class=\"dataframe\">\n",
       "  <thead>\n",
       "    <tr style=\"text-align: right;\">\n",
       "      <th></th>\n",
       "      <th>Year</th>\n",
       "      <th>Annual Cost Increase (applied to initial and last phases)</th>\n",
       "      <th>Total Costs</th>\n",
       "      <th>Initial Year After Diagnosis Cost</th>\n",
       "      <th>Continuing Phase Cost</th>\n",
       "      <th>Last Year of Life Cost</th>\n",
       "      <th>Cancer Site_AllSites</th>\n",
       "      <th>Cancer Site_Bladder</th>\n",
       "      <th>Cancer Site_Brain</th>\n",
       "      <th>Cancer Site_Breast</th>\n",
       "      <th>...</th>\n",
       "      <th>Cancer Site_Stomach</th>\n",
       "      <th>Cancer Site_Uterus</th>\n",
       "      <th>Sex_Both sexes</th>\n",
       "      <th>Sex_Females</th>\n",
       "      <th>Sex_Males</th>\n",
       "      <th>Age_All ages</th>\n",
       "      <th>Incidence and Survival Assumptions_Incidence follows recent trend, Survival constant</th>\n",
       "      <th>Incidence and Survival Assumptions_Incidence, Survival at constant rate</th>\n",
       "      <th>Incidence and Survival Assumptions_Incidence, Survival follow recent trends</th>\n",
       "      <th>Incidence and Survival Assumptions_Survival follows recent trend, Incidence constant</th>\n",
       "    </tr>\n",
       "  </thead>\n",
       "  <tbody>\n",
       "    <tr>\n",
       "      <th>0</th>\n",
       "      <td>2010</td>\n",
       "      <td>0</td>\n",
       "      <td>124565.6</td>\n",
       "      <td>40463.5</td>\n",
       "      <td>46642.8</td>\n",
       "      <td>37459.2</td>\n",
       "      <td>1</td>\n",
       "      <td>0</td>\n",
       "      <td>0</td>\n",
       "      <td>0</td>\n",
       "      <td>...</td>\n",
       "      <td>0</td>\n",
       "      <td>0</td>\n",
       "      <td>1</td>\n",
       "      <td>0</td>\n",
       "      <td>0</td>\n",
       "      <td>1</td>\n",
       "      <td>0</td>\n",
       "      <td>1</td>\n",
       "      <td>0</td>\n",
       "      <td>0</td>\n",
       "    </tr>\n",
       "    <tr>\n",
       "      <th>1</th>\n",
       "      <td>2010</td>\n",
       "      <td>0</td>\n",
       "      <td>122420.8</td>\n",
       "      <td>38552.7</td>\n",
       "      <td>46671.9</td>\n",
       "      <td>37196.3</td>\n",
       "      <td>1</td>\n",
       "      <td>0</td>\n",
       "      <td>0</td>\n",
       "      <td>0</td>\n",
       "      <td>...</td>\n",
       "      <td>0</td>\n",
       "      <td>0</td>\n",
       "      <td>1</td>\n",
       "      <td>0</td>\n",
       "      <td>0</td>\n",
       "      <td>1</td>\n",
       "      <td>1</td>\n",
       "      <td>0</td>\n",
       "      <td>0</td>\n",
       "      <td>0</td>\n",
       "    </tr>\n",
       "    <tr>\n",
       "      <th>2</th>\n",
       "      <td>2010</td>\n",
       "      <td>0</td>\n",
       "      <td>125397.7</td>\n",
       "      <td>40463.5</td>\n",
       "      <td>47136.3</td>\n",
       "      <td>37797.9</td>\n",
       "      <td>1</td>\n",
       "      <td>0</td>\n",
       "      <td>0</td>\n",
       "      <td>0</td>\n",
       "      <td>...</td>\n",
       "      <td>0</td>\n",
       "      <td>0</td>\n",
       "      <td>1</td>\n",
       "      <td>0</td>\n",
       "      <td>0</td>\n",
       "      <td>1</td>\n",
       "      <td>0</td>\n",
       "      <td>0</td>\n",
       "      <td>0</td>\n",
       "      <td>1</td>\n",
       "    </tr>\n",
       "    <tr>\n",
       "      <th>3</th>\n",
       "      <td>2010</td>\n",
       "      <td>0</td>\n",
       "      <td>123236.3</td>\n",
       "      <td>38552.7</td>\n",
       "      <td>47155.7</td>\n",
       "      <td>37527.8</td>\n",
       "      <td>1</td>\n",
       "      <td>0</td>\n",
       "      <td>0</td>\n",
       "      <td>0</td>\n",
       "      <td>...</td>\n",
       "      <td>0</td>\n",
       "      <td>0</td>\n",
       "      <td>1</td>\n",
       "      <td>0</td>\n",
       "      <td>0</td>\n",
       "      <td>1</td>\n",
       "      <td>0</td>\n",
       "      <td>0</td>\n",
       "      <td>1</td>\n",
       "      <td>0</td>\n",
       "    </tr>\n",
       "    <tr>\n",
       "      <th>4</th>\n",
       "      <td>2010</td>\n",
       "      <td>2</td>\n",
       "      <td>123236.3</td>\n",
       "      <td>38552.7</td>\n",
       "      <td>47155.7</td>\n",
       "      <td>37527.8</td>\n",
       "      <td>1</td>\n",
       "      <td>0</td>\n",
       "      <td>0</td>\n",
       "      <td>0</td>\n",
       "      <td>...</td>\n",
       "      <td>0</td>\n",
       "      <td>0</td>\n",
       "      <td>1</td>\n",
       "      <td>0</td>\n",
       "      <td>0</td>\n",
       "      <td>1</td>\n",
       "      <td>0</td>\n",
       "      <td>0</td>\n",
       "      <td>1</td>\n",
       "      <td>0</td>\n",
       "    </tr>\n",
       "  </tbody>\n",
       "</table>\n",
       "<p>5 rows × 33 columns</p>\n",
       "</div>"
      ],
      "text/plain": [
       "   Year  Annual Cost Increase (applied to initial and last phases)  \\\n",
       "0  2010                                                  0           \n",
       "1  2010                                                  0           \n",
       "2  2010                                                  0           \n",
       "3  2010                                                  0           \n",
       "4  2010                                                  2           \n",
       "\n",
       "   Total Costs  Initial Year After Diagnosis Cost  Continuing Phase Cost  \\\n",
       "0     124565.6                            40463.5                46642.8   \n",
       "1     122420.8                            38552.7                46671.9   \n",
       "2     125397.7                            40463.5                47136.3   \n",
       "3     123236.3                            38552.7                47155.7   \n",
       "4     123236.3                            38552.7                47155.7   \n",
       "\n",
       "   Last Year of Life Cost  Cancer Site_AllSites  Cancer Site_Bladder  \\\n",
       "0                 37459.2                     1                    0   \n",
       "1                 37196.3                     1                    0   \n",
       "2                 37797.9                     1                    0   \n",
       "3                 37527.8                     1                    0   \n",
       "4                 37527.8                     1                    0   \n",
       "\n",
       "   Cancer Site_Brain  Cancer Site_Breast  ...  Cancer Site_Stomach  \\\n",
       "0                  0                   0  ...                    0   \n",
       "1                  0                   0  ...                    0   \n",
       "2                  0                   0  ...                    0   \n",
       "3                  0                   0  ...                    0   \n",
       "4                  0                   0  ...                    0   \n",
       "\n",
       "   Cancer Site_Uterus  Sex_Both sexes  Sex_Females  Sex_Males  Age_All ages  \\\n",
       "0                   0               1            0          0             1   \n",
       "1                   0               1            0          0             1   \n",
       "2                   0               1            0          0             1   \n",
       "3                   0               1            0          0             1   \n",
       "4                   0               1            0          0             1   \n",
       "\n",
       "   Incidence and Survival Assumptions_Incidence follows recent trend, Survival constant  \\\n",
       "0                                                  0                                      \n",
       "1                                                  1                                      \n",
       "2                                                  0                                      \n",
       "3                                                  0                                      \n",
       "4                                                  0                                      \n",
       "\n",
       "   Incidence and Survival Assumptions_Incidence, Survival at constant rate  \\\n",
       "0                                                  1                         \n",
       "1                                                  0                         \n",
       "2                                                  0                         \n",
       "3                                                  0                         \n",
       "4                                                  0                         \n",
       "\n",
       "   Incidence and Survival Assumptions_Incidence, Survival follow recent trends  \\\n",
       "0                                                  0                             \n",
       "1                                                  0                             \n",
       "2                                                  0                             \n",
       "3                                                  1                             \n",
       "4                                                  1                             \n",
       "\n",
       "   Incidence and Survival Assumptions_Survival follows recent trend, Incidence constant  \n",
       "0                                                  0                                     \n",
       "1                                                  0                                     \n",
       "2                                                  1                                     \n",
       "3                                                  0                                     \n",
       "4                                                  0                                     \n",
       "\n",
       "[5 rows x 33 columns]"
      ]
     },
     "execution_count": 16,
     "metadata": {},
     "output_type": "execute_result"
    }
   ],
   "source": [
    "data.head()"
   ]
  },
  {
   "cell_type": "code",
   "execution_count": 17,
   "id": "10e31221",
   "metadata": {},
   "outputs": [],
   "source": [
    "from sklearn.model_selection import train_test_split\n",
    "\n",
    "# Splitting Data into X and Y arrays\n",
    "X = np.array(data.drop([\"Total Costs\"], 1))\n",
    "y = np.array(data[\"Total Costs\"])\n",
    "\n",
    "# Splitting the data into training and test data\n",
    "X_train, X_test, y_train, y_test = train_test_split(X, y, test_size=0.2)"
   ]
  },
  {
   "cell_type": "code",
   "execution_count": 18,
   "id": "16c64cb2",
   "metadata": {},
   "outputs": [
    {
     "data": {
      "text/plain": [
       "LinearRegression(copy_X=True, fit_intercept=True, n_jobs=None, normalize=False)"
      ]
     },
     "execution_count": 18,
     "metadata": {},
     "output_type": "execute_result"
    }
   ],
   "source": [
    "# Fitting the data to Linear Regression Model using LinearRegression()\n",
    "from sklearn.linear_model import LinearRegression\n",
    "\n",
    "lr_model = LinearRegression()\n",
    "lr_model.fit(X_train, y_train)"
   ]
  },
  {
   "cell_type": "code",
   "execution_count": 19,
   "id": "d3236951",
   "metadata": {},
   "outputs": [
    {
     "name": "stdout",
     "output_type": "stream",
     "text": [
      "Accuracy of linear regression on test set: 0.999999999995331\n"
     ]
    }
   ],
   "source": [
    "# Predicting the sales for test data\n",
    "\n",
    "y_pred = lr_model.predict(X_test)\n",
    "print('Accuracy of linear regression on test set: {}'.format(lr_model.score(X_test, y_test)))"
   ]
  },
  {
   "cell_type": "code",
   "execution_count": 20,
   "id": "ebf66a52",
   "metadata": {},
   "outputs": [
    {
     "name": "stdout",
     "output_type": "stream",
     "text": [
      "Root Mean Squared Error (RMSE) :  0.059427046294471986\n"
     ]
    }
   ],
   "source": [
    "# Checking the RMSE Error\n",
    "from sklearn.metrics import mean_squared_error\n",
    "\n",
    "print(\"Root Mean Squared Error (RMSE) : \", np.sqrt(mean_squared_error(y_test, y_pred)))"
   ]
  },
  {
   "cell_type": "markdown",
   "id": "bd59a34e",
   "metadata": {},
   "source": [
    "### Perform Cross Validation and obtain accuracy error"
   ]
  },
  {
   "cell_type": "code",
   "execution_count": 21,
   "id": "2abac760",
   "metadata": {},
   "outputs": [],
   "source": [
    "from sklearn.model_selection import KFold\n",
    "from sklearn.preprocessing import MinMaxScaler"
   ]
  },
  {
   "cell_type": "code",
   "execution_count": 22,
   "id": "3dc7a056",
   "metadata": {},
   "outputs": [],
   "source": [
    "from sklearn.svm import SVR"
   ]
  },
  {
   "cell_type": "code",
   "execution_count": 23,
   "id": "52d56c36",
   "metadata": {},
   "outputs": [
    {
     "name": "stdout",
     "output_type": "stream",
     "text": [
      "Train Index:  [ 126  127  128 ... 1251 1252 1253] \n",
      "\n",
      "Test Index:  [  0   1   2   3   4   5   6   7   8   9  10  11  12  13  14  15  16  17\n",
      "  18  19  20  21  22  23  24  25  26  27  28  29  30  31  32  33  34  35\n",
      "  36  37  38  39  40  41  42  43  44  45  46  47  48  49  50  51  52  53\n",
      "  54  55  56  57  58  59  60  61  62  63  64  65  66  67  68  69  70  71\n",
      "  72  73  74  75  76  77  78  79  80  81  82  83  84  85  86  87  88  89\n",
      "  90  91  92  93  94  95  96  97  98  99 100 101 102 103 104 105 106 107\n",
      " 108 109 110 111 112 113 114 115 116 117 118 119 120 121 122 123 124 125]\n",
      "Train Index:  [   0    1    2 ... 1251 1252 1253] \n",
      "\n",
      "Test Index:  [126 127 128 129 130 131 132 133 134 135 136 137 138 139 140 141 142 143\n",
      " 144 145 146 147 148 149 150 151 152 153 154 155 156 157 158 159 160 161\n",
      " 162 163 164 165 166 167 168 169 170 171 172 173 174 175 176 177 178 179\n",
      " 180 181 182 183 184 185 186 187 188 189 190 191 192 193 194 195 196 197\n",
      " 198 199 200 201 202 203 204 205 206 207 208 209 210 211 212 213 214 215\n",
      " 216 217 218 219 220 221 222 223 224 225 226 227 228 229 230 231 232 233\n",
      " 234 235 236 237 238 239 240 241 242 243 244 245 246 247 248 249 250 251]\n",
      "Train Index:  [   0    1    2 ... 1251 1252 1253] \n",
      "\n",
      "Test Index:  [252 253 254 255 256 257 258 259 260 261 262 263 264 265 266 267 268 269\n",
      " 270 271 272 273 274 275 276 277 278 279 280 281 282 283 284 285 286 287\n",
      " 288 289 290 291 292 293 294 295 296 297 298 299 300 301 302 303 304 305\n",
      " 306 307 308 309 310 311 312 313 314 315 316 317 318 319 320 321 322 323\n",
      " 324 325 326 327 328 329 330 331 332 333 334 335 336 337 338 339 340 341\n",
      " 342 343 344 345 346 347 348 349 350 351 352 353 354 355 356 357 358 359\n",
      " 360 361 362 363 364 365 366 367 368 369 370 371 372 373 374 375 376 377]\n",
      "Train Index:  [   0    1    2 ... 1251 1252 1253] \n",
      "\n",
      "Test Index:  [378 379 380 381 382 383 384 385 386 387 388 389 390 391 392 393 394 395\n",
      " 396 397 398 399 400 401 402 403 404 405 406 407 408 409 410 411 412 413\n",
      " 414 415 416 417 418 419 420 421 422 423 424 425 426 427 428 429 430 431\n",
      " 432 433 434 435 436 437 438 439 440 441 442 443 444 445 446 447 448 449\n",
      " 450 451 452 453 454 455 456 457 458 459 460 461 462 463 464 465 466 467\n",
      " 468 469 470 471 472 473 474 475 476 477 478 479 480 481 482 483 484 485\n",
      " 486 487 488 489 490 491 492 493 494 495 496 497 498 499 500 501 502 503]\n",
      "Train Index:  [   0    1    2 ... 1251 1252 1253] \n",
      "\n",
      "Test Index:  [504 505 506 507 508 509 510 511 512 513 514 515 516 517 518 519 520 521\n",
      " 522 523 524 525 526 527 528 529 530 531 532 533 534 535 536 537 538 539\n",
      " 540 541 542 543 544 545 546 547 548 549 550 551 552 553 554 555 556 557\n",
      " 558 559 560 561 562 563 564 565 566 567 568 569 570 571 572 573 574 575\n",
      " 576 577 578 579 580 581 582 583 584 585 586 587 588 589 590 591 592 593\n",
      " 594 595 596 597 598 599 600 601 602 603 604 605 606 607 608 609 610 611\n",
      " 612 613 614 615 616 617 618 619 620 621 622 623 624 625 626 627 628]\n",
      "Train Index:  [   0    1    2 ... 1251 1252 1253] \n",
      "\n",
      "Test Index:  [629 630 631 632 633 634 635 636 637 638 639 640 641 642 643 644 645 646\n",
      " 647 648 649 650 651 652 653 654 655 656 657 658 659 660 661 662 663 664\n",
      " 665 666 667 668 669 670 671 672 673 674 675 676 677 678 679 680 681 682\n",
      " 683 684 685 686 687 688 689 690 691 692 693 694 695 696 697 698 699 700\n",
      " 701 702 703 704 705 706 707 708 709 710 711 712 713 714 715 716 717 718\n",
      " 719 720 721 722 723 724 725 726 727 728 729 730 731 732 733 734 735 736\n",
      " 737 738 739 740 741 742 743 744 745 746 747 748 749 750 751 752 753]\n",
      "Train Index:  [   0    1    2 ... 1251 1252 1253] \n",
      "\n",
      "Test Index:  [754 755 756 757 758 759 760 761 762 763 764 765 766 767 768 769 770 771\n",
      " 772 773 774 775 776 777 778 779 780 781 782 783 784 785 786 787 788 789\n",
      " 790 791 792 793 794 795 796 797 798 799 800 801 802 803 804 805 806 807\n",
      " 808 809 810 811 812 813 814 815 816 817 818 819 820 821 822 823 824 825\n",
      " 826 827 828 829 830 831 832 833 834 835 836 837 838 839 840 841 842 843\n",
      " 844 845 846 847 848 849 850 851 852 853 854 855 856 857 858 859 860 861\n",
      " 862 863 864 865 866 867 868 869 870 871 872 873 874 875 876 877 878]\n",
      "Train Index:  [   0    1    2 ... 1251 1252 1253] \n",
      "\n",
      "Test Index:  [ 879  880  881  882  883  884  885  886  887  888  889  890  891  892\n",
      "  893  894  895  896  897  898  899  900  901  902  903  904  905  906\n",
      "  907  908  909  910  911  912  913  914  915  916  917  918  919  920\n",
      "  921  922  923  924  925  926  927  928  929  930  931  932  933  934\n",
      "  935  936  937  938  939  940  941  942  943  944  945  946  947  948\n",
      "  949  950  951  952  953  954  955  956  957  958  959  960  961  962\n",
      "  963  964  965  966  967  968  969  970  971  972  973  974  975  976\n",
      "  977  978  979  980  981  982  983  984  985  986  987  988  989  990\n",
      "  991  992  993  994  995  996  997  998  999 1000 1001 1002 1003]\n",
      "Train Index:  [   0    1    2 ... 1251 1252 1253] \n",
      "\n",
      "Test Index:  [1004 1005 1006 1007 1008 1009 1010 1011 1012 1013 1014 1015 1016 1017\n",
      " 1018 1019 1020 1021 1022 1023 1024 1025 1026 1027 1028 1029 1030 1031\n",
      " 1032 1033 1034 1035 1036 1037 1038 1039 1040 1041 1042 1043 1044 1045\n",
      " 1046 1047 1048 1049 1050 1051 1052 1053 1054 1055 1056 1057 1058 1059\n",
      " 1060 1061 1062 1063 1064 1065 1066 1067 1068 1069 1070 1071 1072 1073\n",
      " 1074 1075 1076 1077 1078 1079 1080 1081 1082 1083 1084 1085 1086 1087\n",
      " 1088 1089 1090 1091 1092 1093 1094 1095 1096 1097 1098 1099 1100 1101\n",
      " 1102 1103 1104 1105 1106 1107 1108 1109 1110 1111 1112 1113 1114 1115\n",
      " 1116 1117 1118 1119 1120 1121 1122 1123 1124 1125 1126 1127 1128]\n",
      "Train Index:  [   0    1    2 ... 1126 1127 1128] \n",
      "\n",
      "Test Index:  [1129 1130 1131 1132 1133 1134 1135 1136 1137 1138 1139 1140 1141 1142\n",
      " 1143 1144 1145 1146 1147 1148 1149 1150 1151 1152 1153 1154 1155 1156\n",
      " 1157 1158 1159 1160 1161 1162 1163 1164 1165 1166 1167 1168 1169 1170\n",
      " 1171 1172 1173 1174 1175 1176 1177 1178 1179 1180 1181 1182 1183 1184\n",
      " 1185 1186 1187 1188 1189 1190 1191 1192 1193 1194 1195 1196 1197 1198\n",
      " 1199 1200 1201 1202 1203 1204 1205 1206 1207 1208 1209 1210 1211 1212\n",
      " 1213 1214 1215 1216 1217 1218 1219 1220 1221 1222 1223 1224 1225 1226\n",
      " 1227 1228 1229 1230 1231 1232 1233 1234 1235 1236 1237 1238 1239 1240\n",
      " 1241 1242 1243 1244 1245 1246 1247 1248 1249 1250 1251 1252 1253]\n"
     ]
    }
   ],
   "source": [
    "scores = []\n",
    "best_svr = SVR(kernel='rbf')\n",
    "cv = KFold(n_splits=10, random_state=42, shuffle=False)\n",
    "\n",
    "for train_index, test_index in cv.split(X):\n",
    "    print(\"Train Index: \", train_index, \"\\n\")\n",
    "    print(\"Test Index: \", test_index)\n",
    "\n",
    "    X_train, X_test, y_train, y_test = X[train_index], X[test_index], y[train_index], y[test_index]\n",
    "    lr_model.fit(X_train, y_train)\n",
    "    scores.append(lr_model.score(X_test, y_test))"
   ]
  },
  {
   "cell_type": "code",
   "execution_count": 24,
   "id": "bdf935e3",
   "metadata": {},
   "outputs": [
    {
     "data": {
      "text/plain": [
       "[0.9999999999976217,\n",
       " 0.999999999995513,\n",
       " 0.9999999999955244,\n",
       " 0.9999999999959109,\n",
       " 0.9999999999955977,\n",
       " 0.9999999999961331,\n",
       " 0.9999999999967175,\n",
       " 0.9999999999968042,\n",
       " 0.9999999999968656,\n",
       " 0.9999999999975534]"
      ]
     },
     "execution_count": 24,
     "metadata": {},
     "output_type": "execute_result"
    }
   ],
   "source": [
    "scores"
   ]
  },
  {
   "cell_type": "code",
   "execution_count": 25,
   "id": "d7942ca1",
   "metadata": {},
   "outputs": [
    {
     "name": "stdout",
     "output_type": "stream",
     "text": [
      "0.9999999999964244\n"
     ]
    }
   ],
   "source": [
    "print(np.mean(scores))"
   ]
  },
  {
   "cell_type": "code",
   "execution_count": 26,
   "id": "4822d17f",
   "metadata": {},
   "outputs": [
    {
     "data": {
      "text/plain": [
       "array([1., 1., 1., 1., 1., 1., 1., 1., 1., 1.])"
      ]
     },
     "execution_count": 26,
     "metadata": {},
     "output_type": "execute_result"
    }
   ],
   "source": [
    "from sklearn.model_selection import cross_val_score\n",
    "cross_val_score(lr_model, X, y, cv=10)"
   ]
  }
 ],
 "metadata": {
  "kernelspec": {
   "display_name": "Python 3",
   "language": "python",
   "name": "python3"
  },
  "language_info": {
   "codemirror_mode": {
    "name": "ipython",
    "version": 3
   },
   "file_extension": ".py",
   "mimetype": "text/x-python",
   "name": "python",
   "nbconvert_exporter": "python",
   "pygments_lexer": "ipython3",
   "version": "3.7.3"
  }
 },
 "nbformat": 4,
 "nbformat_minor": 5
}
