{
 "cells": [
  {
   "cell_type": "code",
   "execution_count": 3,
   "id": "010c483b",
   "metadata": {},
   "outputs": [],
   "source": [
    "# Import Libraries\n",
    "\n",
    "import pandas as pd\n",
    "import numpy as np\n",
    "import matplotlib.pyplot as plt\n",
    "\n",
    "import seaborn as sns\n",
    "from sklearn.model_selection import train_test_split\n",
    "from sklearn.linear_model import LinearRegression"
   ]
  },
  {
   "cell_type": "markdown",
   "id": "9ce9e02a",
   "metadata": {},
   "source": [
    "### 1. Read the data and print the data"
   ]
  },
  {
   "cell_type": "code",
   "execution_count": 4,
   "id": "589db6c5",
   "metadata": {},
   "outputs": [
    {
     "name": "stdout",
     "output_type": "stream",
     "text": [
      "Data :\n",
      "      Cancer Site  Year         Sex       Age  \\\n",
      "0       AllSites  2010  Both sexes  All ages   \n",
      "1       AllSites  2010  Both sexes  All ages   \n",
      "2       AllSites  2010  Both sexes  All ages   \n",
      "3       AllSites  2010  Both sexes  All ages   \n",
      "4       AllSites  2010  Both sexes  All ages   \n",
      "...          ...   ...         ...       ...   \n",
      "1249       Other  2020  Both sexes  All ages   \n",
      "1250       Other  2020  Both sexes  All ages   \n",
      "1251       Other  2020  Both sexes  All ages   \n",
      "1252       Other  2020  Both sexes  All ages   \n",
      "1253       Other  2020  Both sexes  All ages   \n",
      "\n",
      "                     Incidence and Survival Assumptions  \\\n",
      "0                  Incidence, Survival at constant rate   \n",
      "1     Incidence follows recent trend, Survival constant   \n",
      "2     Survival follows recent trend, Incidence constant   \n",
      "3              Incidence, Survival follow recent trends   \n",
      "4              Incidence, Survival follow recent trends   \n",
      "...                                                 ...   \n",
      "1249  Incidence follows recent trend, Survival constant   \n",
      "1250  Survival follows recent trend, Incidence constant   \n",
      "1251           Incidence, Survival follow recent trends   \n",
      "1252           Incidence, Survival follow recent trends   \n",
      "1253           Incidence, Survival follow recent trends   \n",
      "\n",
      "     Annual Cost Increase (applied to initial and last phases)  Total Costs  \\\n",
      "0                                                    0%            124565.6   \n",
      "1                                                    0%            122420.8   \n",
      "2                                                    0%            125397.7   \n",
      "3                                                    0%            123236.3   \n",
      "4                                                    2%            123236.3   \n",
      "...                                                 ...                 ...   \n",
      "1249                                                 0%             26945.7   \n",
      "1250                                                 0%             29975.9   \n",
      "1251                                                 0%             30892.3   \n",
      "1252                                                 2%             33201.2   \n",
      "1253                                                 5%             37522.8   \n",
      "\n",
      "      Initial Year After Diagnosis Cost  Continuing Phase Cost  \\\n",
      "0                               40463.5                46642.8   \n",
      "1                               38552.7                46671.9   \n",
      "2                               40463.5                47136.3   \n",
      "3                               38552.7                47155.7   \n",
      "4                               38552.7                47155.7   \n",
      "...                                 ...                    ...   \n",
      "1249                             4432.4                14156.5   \n",
      "1250                             4466.2                17675.7   \n",
      "1251                             4432.4                17275.7   \n",
      "1252                             5403.1                17275.7   \n",
      "1253                             7219.9                17275.7   \n",
      "\n",
      "      Last Year of Life Cost  \n",
      "0                    37459.2  \n",
      "1                    37196.3  \n",
      "2                    37797.9  \n",
      "3                    37527.8  \n",
      "4                    37527.8  \n",
      "...                      ...  \n",
      "1249                  8356.8  \n",
      "1250                  7834.0  \n",
      "1251                  9184.3  \n",
      "1252                 10522.5  \n",
      "1253                 13027.2  \n",
      "\n",
      "[1254 rows x 10 columns]\n"
     ]
    }
   ],
   "source": [
    "data = pd.read_csv('Cancertreatmentdataset.csv', skiprows=3)\n",
    "print(\"Data :\\n\", data)"
   ]
  },
  {
   "cell_type": "markdown",
   "id": "817f9963",
   "metadata": {},
   "source": [
    "### 2. Display the head of data"
   ]
  },
  {
   "cell_type": "code",
   "execution_count": 5,
   "id": "38ad569a",
   "metadata": {},
   "outputs": [
    {
     "name": "stdout",
     "output_type": "stream",
     "text": [
      "  Cancer Site  Year         Sex       Age  \\\n",
      "0    AllSites  2010  Both sexes  All ages   \n",
      "1    AllSites  2010  Both sexes  All ages   \n",
      "2    AllSites  2010  Both sexes  All ages   \n",
      "3    AllSites  2010  Both sexes  All ages   \n",
      "4    AllSites  2010  Both sexes  All ages   \n",
      "\n",
      "                  Incidence and Survival Assumptions  \\\n",
      "0               Incidence, Survival at constant rate   \n",
      "1  Incidence follows recent trend, Survival constant   \n",
      "2  Survival follows recent trend, Incidence constant   \n",
      "3           Incidence, Survival follow recent trends   \n",
      "4           Incidence, Survival follow recent trends   \n",
      "\n",
      "  Annual Cost Increase (applied to initial and last phases)  Total Costs  \\\n",
      "0                                                 0%            124565.6   \n",
      "1                                                 0%            122420.8   \n",
      "2                                                 0%            125397.7   \n",
      "3                                                 0%            123236.3   \n",
      "4                                                 2%            123236.3   \n",
      "\n",
      "   Initial Year After Diagnosis Cost  Continuing Phase Cost  \\\n",
      "0                            40463.5                46642.8   \n",
      "1                            38552.7                46671.9   \n",
      "2                            40463.5                47136.3   \n",
      "3                            38552.7                47155.7   \n",
      "4                            38552.7                47155.7   \n",
      "\n",
      "   Last Year of Life Cost  \n",
      "0                 37459.2  \n",
      "1                 37196.3  \n",
      "2                 37797.9  \n",
      "3                 37527.8  \n",
      "4                 37527.8  \n"
     ]
    }
   ],
   "source": [
    "print(data.head())"
   ]
  },
  {
   "cell_type": "markdown",
   "id": "b6554d99",
   "metadata": {},
   "source": [
    "### 3. Display the tail of data"
   ]
  },
  {
   "cell_type": "code",
   "execution_count": 7,
   "id": "4321b0fa",
   "metadata": {},
   "outputs": [
    {
     "name": "stdout",
     "output_type": "stream",
     "text": [
      "     Cancer Site  Year         Sex       Age  \\\n",
      "1249       Other  2020  Both sexes  All ages   \n",
      "1250       Other  2020  Both sexes  All ages   \n",
      "1251       Other  2020  Both sexes  All ages   \n",
      "1252       Other  2020  Both sexes  All ages   \n",
      "1253       Other  2020  Both sexes  All ages   \n",
      "\n",
      "                     Incidence and Survival Assumptions  \\\n",
      "1249  Incidence follows recent trend, Survival constant   \n",
      "1250  Survival follows recent trend, Incidence constant   \n",
      "1251           Incidence, Survival follow recent trends   \n",
      "1252           Incidence, Survival follow recent trends   \n",
      "1253           Incidence, Survival follow recent trends   \n",
      "\n",
      "     Annual Cost Increase (applied to initial and last phases)  Total Costs  \\\n",
      "1249                                                 0%             26945.7   \n",
      "1250                                                 0%             29975.9   \n",
      "1251                                                 0%             30892.3   \n",
      "1252                                                 2%             33201.2   \n",
      "1253                                                 5%             37522.8   \n",
      "\n",
      "      Initial Year After Diagnosis Cost  Continuing Phase Cost  \\\n",
      "1249                             4432.4                14156.5   \n",
      "1250                             4466.2                17675.7   \n",
      "1251                             4432.4                17275.7   \n",
      "1252                             5403.1                17275.7   \n",
      "1253                             7219.9                17275.7   \n",
      "\n",
      "      Last Year of Life Cost  \n",
      "1249                  8356.8  \n",
      "1250                  7834.0  \n",
      "1251                  9184.3  \n",
      "1252                 10522.5  \n",
      "1253                 13027.2  \n"
     ]
    }
   ],
   "source": [
    "print(data.tail())"
   ]
  },
  {
   "cell_type": "markdown",
   "id": "f97773d6",
   "metadata": {},
   "source": [
    "### 4. Checking for null values and  duplicate values"
   ]
  },
  {
   "cell_type": "code",
   "execution_count": 9,
   "id": "39cae4a1",
   "metadata": {},
   "outputs": [
    {
     "name": "stdout",
     "output_type": "stream",
     "text": [
      "Null Values : \n",
      " Cancer Site                                                  0\n",
      "Year                                                         0\n",
      "Sex                                                          0\n",
      "Age                                                          0\n",
      "Incidence and Survival Assumptions                           0\n",
      "Annual Cost Increase (applied to initial and last phases)    0\n",
      "Total Costs                                                  0\n",
      "Initial Year After Diagnosis Cost                            0\n",
      "Continuing Phase Cost                                        0\n",
      "Last Year of Life Cost                                       0\n",
      "dtype: int64\n"
     ]
    }
   ],
   "source": [
    "print(\"Null Values : \\n\",data.isnull().sum())"
   ]
  },
  {
   "cell_type": "code",
   "execution_count": 10,
   "id": "52e336bc",
   "metadata": {},
   "outputs": [
    {
     "name": "stdout",
     "output_type": "stream",
     "text": [
      "Duplicate Values for each column : \n",
      "\n",
      "Cancer Site - False\n",
      "Year - False\n",
      "Sex - False\n",
      "Age - False\n",
      "Incidence and Survival Assumptions - False\n",
      "Annual Cost Increase (applied to initial and last phases) - False\n",
      "Total Costs - False\n",
      "Initial Year After Diagnosis Cost - False\n",
      "Continuing Phase Cost - False\n",
      "Last Year of Life Cost - False\n"
     ]
    }
   ],
   "source": [
    "print(\"Duplicate Values for each column : \\n\")\n",
    "for col in data.columns:\n",
    "    print(col, \"-\", data[col].is_unique)"
   ]
  },
  {
   "cell_type": "markdown",
   "id": "7fd0e23c",
   "metadata": {},
   "source": [
    "### 5. Display Gender-wise total costs"
   ]
  },
  {
   "cell_type": "code",
   "execution_count": 11,
   "id": "7c89890e",
   "metadata": {},
   "outputs": [
    {
     "data": {
      "text/plain": [
       "<matplotlib.axes._subplots.AxesSubplot at 0x1908561e3c8>"
      ]
     },
     "execution_count": 11,
     "metadata": {},
     "output_type": "execute_result"
    },
    {
     "data": {
      "image/png": "[encoded data removed]",
      "text/plain": [
       "<Figure size 432x288 with 1 Axes>"
      ]
     },
     "metadata": {
      "needs_background": "light"
     },
     "output_type": "display_data"
    }
   ],
   "source": [
    "sns.barplot(x=\"Sex\", y=\"Total Costs\", data=data)"
   ]
  },
  {
   "cell_type": "markdown",
   "id": "4c5ad516",
   "metadata": {},
   "source": [
    "### 6. Display Gender-wise Annual cost increase"
   ]
  },
  {
   "cell_type": "code",
   "execution_count": 12,
   "id": "96ee272e",
   "metadata": {},
   "outputs": [
    {
     "data": {
      "text/plain": [
       "<matplotlib.axes._subplots.AxesSubplot at 0x1908596c358>"
      ]
     },
     "execution_count": 12,
     "metadata": {},
     "output_type": "execute_result"
    },
    {
     "data": {
      "image/png": "[encoded data removed]",
      "text/plain": [
       "<Figure size 432x288 with 1 Axes>"
      ]
     },
     "metadata": {
      "needs_background": "light"
     },
     "output_type": "display_data"
    }
   ],
   "source": [
    "annual_cost = []\n",
    "data_copy = data.copy()\n",
    "for i, elem in enumerate(data_copy['Annual Cost Increase (applied to initial and last phases)']):\n",
    "     annual_cost.append(int(elem.split('%')[0]))\n",
    "    \n",
    "data_copy['Annual Cost Increase (applied to initial and last phases)'] = annual_cost\n",
    "sns.countplot(x=\"Sex\", hue=\"Annual Cost Increase (applied to initial and last phases)\", data=data_copy)"
   ]
  },
  {
   "cell_type": "markdown",
   "id": "dc69038f",
   "metadata": {},
   "source": [
    "### 7. Apply best suitable ML algorithm that you may know to predict the total cost in future"
   ]
  },
  {
   "cell_type": "code",
   "execution_count": null,
   "id": "643ae682",
   "metadata": {},
   "outputs": [],
   "source": []
  }
 ],
 "metadata": {
  "kernelspec": {
   "display_name": "Python 3",
   "language": "python",
   "name": "python3"
  },
  "language_info": {
   "codemirror_mode": {
    "name": "ipython",
    "version": 3
   },
   "file_extension": ".py",
   "mimetype": "text/x-python",
   "name": "python",
   "nbconvert_exporter": "python",
   "pygments_lexer": "ipython3",
   "version": "3.7.3"
  }
 },
 "nbformat": 4,
 "nbformat_minor": 5
}
