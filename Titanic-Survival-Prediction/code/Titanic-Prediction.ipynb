{
 "cells": [
  {
   "cell_type": "markdown",
   "id": "4b2f2017",
   "metadata": {},
   "source": [
    "## Import Libraries"
   ]
  },
  {
   "cell_type": "code",
   "execution_count": null,
   "id": "6f8ea625",
   "metadata": {},
   "outputs": [],
   "source": [
    "import numpy as np\n",
    "import pandas as pd\n",
    "import matplotlib.pyplot as plt\n",
    "import seaborn as sb\n",
    "import re\n",
    "\n",
    "%matplotlib inline"
   ]
  },
  {
   "cell_type": "markdown",
   "id": "fc6d472c",
   "metadata": {},
   "source": [
    "### Dataset and EDA of Dataset"
   ]
  },
  {
   "cell_type": "code",
   "execution_count": null,
   "id": "1dc86656",
   "metadata": {},
   "outputs": [],
   "source": [
    "train_df = pd.read_csv('train.csv')\n",
    "test_df = pd.read_csv('test.csv')\n",
    "\n",
    "data = pd.concat([train_df, test_df])\n",
    "print(data)"
   ]
  },
  {
   "cell_type": "code",
   "execution_count": null,
   "id": "1e4e8114",
   "metadata": {},
   "outputs": [],
   "source": [
    "data.info()"
   ]
  },
  {
   "cell_type": "code",
   "execution_count": null,
   "id": "25941516",
   "metadata": {},
   "outputs": [],
   "source": [
    "data.describe()"
   ]
  },
  {
   "cell_type": "code",
   "execution_count": null,
   "id": "5432c019",
   "metadata": {},
   "outputs": [],
   "source": [
    "numeric_columns = ['Pclass', 'Age', 'SibSp', 'Parch', 'Alone', 'Fare']\n",
    "categorical_columns = ['Title', 'Sex', 'Embarked']\n",
    "features = numeric_columns + categorical_columns"
   ]
  },
  {
   "cell_type": "code",
   "execution_count": null,
   "id": "5cd14f1b",
   "metadata": {},
   "outputs": [],
   "source": [
    "data[\"Family_Size\"]=data[\"SibSp\"] + data[\"Parch\"]\n",
    "\n",
    "data['Alone'] = [0 if item>1 else 1 for item in data['Family_Size'].values]\n",
    "data['Alone']\n",
    "\n",
    "data = data.drop(['Family_Size'], 1)"
   ]
  },
  {
   "cell_type": "code",
   "execution_count": null,
   "id": "bd108078",
   "metadata": {},
   "outputs": [],
   "source": [
    "data['Title'] = data.Name.apply(lambda x: x.split(',')[1].split('.')[0].strip())\n",
    "data['Title']"
   ]
  },
  {
   "cell_type": "code",
   "execution_count": null,
   "id": "ae41ab73",
   "metadata": {},
   "outputs": [],
   "source": [
    "# data['Surname'] = data.Name.apply(lambda x: re.split(',', x)[0].strip())\n",
    "# data['Surname']"
   ]
  },
  {
   "cell_type": "code",
   "execution_count": null,
   "id": "ccf305d9",
   "metadata": {},
   "outputs": [],
   "source": [
    "data.describe()"
   ]
  },
  {
   "cell_type": "code",
   "execution_count": null,
   "id": "50e8be61",
   "metadata": {},
   "outputs": [],
   "source": [
    "sb.countplot(x='Pclass', hue='Survived', data=data)"
   ]
  },
  {
   "cell_type": "code",
   "execution_count": null,
   "id": "1387e01b",
   "metadata": {},
   "outputs": [],
   "source": [
    "sb.countplot(x='Sex', hue='Survived', data=data)"
   ]
  },
  {
   "cell_type": "code",
   "execution_count": null,
   "id": "f198e7a0",
   "metadata": {},
   "outputs": [],
   "source": [
    "sb.countplot(x='Age', hue='Survived', data=data)"
   ]
  },
  {
   "cell_type": "code",
   "execution_count": null,
   "id": "0e30c12a",
   "metadata": {},
   "outputs": [],
   "source": [
    "sb.countplot(x='SibSp', hue='Survived', data=data)"
   ]
  },
  {
   "cell_type": "code",
   "execution_count": null,
   "id": "ea78abc5",
   "metadata": {},
   "outputs": [],
   "source": [
    "sb.countplot(x='Parch', hue='Survived', data=data)"
   ]
  },
  {
   "cell_type": "code",
   "execution_count": null,
   "id": "c29ebdd7",
   "metadata": {},
   "outputs": [],
   "source": [
    "sb.countplot(x='Fare', hue='Survived', data=data)"
   ]
  },
  {
   "cell_type": "code",
   "execution_count": null,
   "id": "381b804b",
   "metadata": {},
   "outputs": [],
   "source": [
    "sb.countplot(x='Embarked', hue='Survived', data=data)"
   ]
  },
  {
   "cell_type": "code",
   "execution_count": null,
   "id": "4595f321",
   "metadata": {},
   "outputs": [],
   "source": [
    "sb.countplot(x='Title', hue='Survived', data=data)"
   ]
  },
  {
   "cell_type": "code",
   "execution_count": null,
   "id": "aa381e34",
   "metadata": {},
   "outputs": [],
   "source": [
    "sb.countplot(x='Alone', hue='Survived', data=data)"
   ]
  },
  {
   "cell_type": "code",
   "execution_count": null,
   "id": "b0c80185",
   "metadata": {},
   "outputs": [],
   "source": [
    "# sb.countplot(x='Surname', hue='Survived', data=data)"
   ]
  },
  {
   "cell_type": "code",
   "execution_count": null,
   "id": "67d7ede8",
   "metadata": {},
   "outputs": [],
   "source": [
    "p_id = data['PassengerId']\n",
    "p_id"
   ]
  },
  {
   "cell_type": "code",
   "execution_count": null,
   "id": "a123241d",
   "metadata": {
    "scrolled": true
   },
   "outputs": [],
   "source": [
    "survived = data['Survived']\n",
    "survived"
   ]
  },
  {
   "cell_type": "code",
   "execution_count": null,
   "id": "c80242c6",
   "metadata": {},
   "outputs": [],
   "source": [
    "data.info()"
   ]
  },
  {
   "cell_type": "markdown",
   "id": "128a0031",
   "metadata": {},
   "source": [
    "### Pre-processing of Dataset"
   ]
  },
  {
   "cell_type": "code",
   "execution_count": null,
   "id": "adf298bc",
   "metadata": {},
   "outputs": [],
   "source": [
    "for col in data.columns:\n",
    "    if col not in features:\n",
    "        data = data.drop([col], 1)\n",
    "        \n",
    "data.info()"
   ]
  },
  {
   "cell_type": "code",
   "execution_count": null,
   "id": "c4a2941d",
   "metadata": {},
   "outputs": [],
   "source": [
    "data.isna().sum()"
   ]
  },
  {
   "cell_type": "code",
   "execution_count": null,
   "id": "74f8ad2f",
   "metadata": {},
   "outputs": [],
   "source": [
    "data['Age'] = data['Age'].fillna(data['Age'].mean().round()).astype(int)\n",
    "data['Fare'] = data['Fare'].fillna(data['Fare'].mean().round()).astype(int)"
   ]
  },
  {
   "cell_type": "code",
   "execution_count": null,
   "id": "ba9ba223",
   "metadata": {},
   "outputs": [],
   "source": [
    "data.Embarked.value_counts(dropna=False)"
   ]
  },
  {
   "cell_type": "code",
   "execution_count": null,
   "id": "3c73132a",
   "metadata": {},
   "outputs": [],
   "source": [
    "data[\"Embarked\"]= data[\"Embarked\"].fillna(\"S\")"
   ]
  },
  {
   "cell_type": "code",
   "execution_count": null,
   "id": "74a5155a",
   "metadata": {},
   "outputs": [],
   "source": [
    "data.Embarked.value_counts(dropna=False)"
   ]
  },
  {
   "cell_type": "code",
   "execution_count": null,
   "id": "e23d55ae",
   "metadata": {},
   "outputs": [],
   "source": [
    "data.isna().sum()"
   ]
  },
  {
   "cell_type": "code",
   "execution_count": null,
   "id": "3a23b178",
   "metadata": {},
   "outputs": [],
   "source": [
    "data.info()"
   ]
  },
  {
   "cell_type": "code",
   "execution_count": null,
   "id": "3e918bb4",
   "metadata": {},
   "outputs": [],
   "source": [
    "from sklearn import preprocessing\n",
    "\n",
    "for col in data.columns:\n",
    "    if col in categorical_columns:\n",
    "        dummy = pd.get_dummies(data[[col]])\n",
    "        data = pd.concat([data, dummy], axis=1)\n",
    "        \n",
    "        data = data.drop([col], axis=1)\n"
   ]
  },
  {
   "cell_type": "code",
   "execution_count": null,
   "id": "19b45412",
   "metadata": {},
   "outputs": [],
   "source": [
    "data.info()"
   ]
  },
  {
   "cell_type": "code",
   "execution_count": null,
   "id": "a1af6fca",
   "metadata": {},
   "outputs": [],
   "source": [
    "drop_title_cols = ['Title_Master', 'Title_Miss', 'Title_Mr', 'Title_Mrs']\n",
    "for col in drop_title_cols:\n",
    "    data = data.drop([col], 1)"
   ]
  },
  {
   "cell_type": "code",
   "execution_count": null,
   "id": "80da2caa",
   "metadata": {},
   "outputs": [],
   "source": [
    "data.info()"
   ]
  },
  {
   "cell_type": "code",
   "execution_count": null,
   "id": "c2679f3b",
   "metadata": {},
   "outputs": [],
   "source": [
    "data.tail()"
   ]
  },
  {
   "cell_type": "code",
   "execution_count": null,
   "id": "ecb2375f",
   "metadata": {},
   "outputs": [],
   "source": [
    "# Normalization of Data\n",
    "from sklearn.preprocessing import StandardScaler\n",
    "\n",
    "data = StandardScaler().fit(data).transform(data)\n",
    "data"
   ]
  },
  {
   "cell_type": "markdown",
   "id": "ea4222e0",
   "metadata": {},
   "source": [
    "### Model"
   ]
  },
  {
   "cell_type": "markdown",
   "id": "19ad2ce7",
   "metadata": {},
   "source": [
    "#### Logistic Regression"
   ]
  },
  {
   "cell_type": "code",
   "execution_count": null,
   "id": "8931e7fe",
   "metadata": {},
   "outputs": [],
   "source": [
    "from sklearn.model_selection import RepeatedStratifiedKFold\n",
    "from sklearn.model_selection import GridSearchCV\n",
    "\n",
    "def best_hyperparams(model, grid_dict, train_data, test_data):\n",
    "    \n",
    "    grid = grid_dict\n",
    "\n",
    "    cv = RepeatedStratifiedKFold(n_splits=10, n_repeats=3, random_state=1)\n",
    "    grid_search = GridSearchCV(estimator=model, param_grid=grid, n_jobs=-1, cv=cv, scoring='accuracy',error_score=0)\n",
    "    grid_result = grid_search.fit(train_data, test_data)\n",
    "\n",
    "    # summarize results\n",
    "    print(\"Best: %f using %s\" % (grid_result.best_score_, grid_result.best_params_))\n",
    "    means = grid_result.cv_results_['mean_test_score']\n",
    "    stds = grid_result.cv_results_['std_test_score']\n",
    "    params = grid_result.cv_results_['params']\n",
    "    \n",
    "    for mean, stdev, param in zip(means, stds, params):\n",
    "        print(\"%f (%f) with: %r\" % (mean, stdev, param))"
   ]
  },
  {
   "cell_type": "code",
   "execution_count": null,
   "id": "814e9937",
   "metadata": {},
   "outputs": [],
   "source": [
    "from sklearn.linear_model import LogisticRegression"
   ]
  },
  {
   "cell_type": "code",
   "execution_count": null,
   "id": "6bf57ec1",
   "metadata": {},
   "outputs": [],
   "source": [
    "log_reg = LogisticRegression(C=1, verbose=1)\n",
    "\n",
    "log_reg.__dict__"
   ]
  },
  {
   "cell_type": "code",
   "execution_count": null,
   "id": "3c008b89",
   "metadata": {},
   "outputs": [],
   "source": [
    "log_reg.fit(data[:891], survived[:891])"
   ]
  },
  {
   "cell_type": "code",
   "execution_count": null,
   "id": "5a259c60",
   "metadata": {},
   "outputs": [],
   "source": [
    "log_reg.score(data[:891], survived[:891])"
   ]
  },
  {
   "cell_type": "code",
   "execution_count": null,
   "id": "b3aff6ad",
   "metadata": {},
   "outputs": [],
   "source": [
    "solvers = ['newton-cg', 'lbfgs', 'liblinear']\n",
    "penalty = ['l2']\n",
    "c_values = [100, 10, 1.0, 0.1, 0.01]\n",
    "\n",
    "lr_dict = {'solver' : solvers, 'penalty' : penalty, 'C': c_values}\n",
    "\n",
    "best_hyperparams(model=log_reg, grid_dict=lr_dict, train_data=data[:891], test_data=survived[:891])"
   ]
  },
  {
   "cell_type": "code",
   "execution_count": null,
   "id": "3ef1fe7b",
   "metadata": {},
   "outputs": [],
   "source": [
    "pred = log_reg.predict(data[891:]).astype(int)"
   ]
  },
  {
   "cell_type": "code",
   "execution_count": null,
   "id": "42d3eb0a",
   "metadata": {},
   "outputs": [],
   "source": [
    "pred"
   ]
  },
  {
   "cell_type": "markdown",
   "id": "af7e168b",
   "metadata": {},
   "source": [
    "#### KNN"
   ]
  },
  {
   "cell_type": "code",
   "execution_count": null,
   "id": "4eef4f88",
   "metadata": {},
   "outputs": [],
   "source": [
    "from sklearn.neighbors import KNeighborsClassifier\n",
    "\n",
    "model_knn = KNeighborsClassifier()\n",
    "model_knn.__dict__"
   ]
  },
  {
   "cell_type": "code",
   "execution_count": null,
   "id": "9d4434fb",
   "metadata": {},
   "outputs": [],
   "source": [
    "model_knn.fit(data[:891], survived[:891])\n"
   ]
  },
  {
   "cell_type": "code",
   "execution_count": null,
   "id": "6f3cb11a",
   "metadata": {},
   "outputs": [],
   "source": [
    "model_knn.score(data[:891], survived[:891])"
   ]
  },
  {
   "cell_type": "code",
   "execution_count": null,
   "id": "f7cbd67f",
   "metadata": {},
   "outputs": [],
   "source": [
    "n_neighbors = range(1, 21, 2)\n",
    "weights = ['uniform', 'distance']\n",
    "metric = ['euclidean', 'manhattan', 'minkowski']\n",
    "\n",
    "knn_dict = {'n_neighbors' : n_neighbors, 'weights' : weights, 'metric': metric}\n",
    "\n",
    "best_hyperparams(model=model_knn, grid_dict=knn_dict, train_data=data[:891], test_data=survived[:891])"
   ]
  },
  {
   "cell_type": "markdown",
   "id": "b7622c88",
   "metadata": {},
   "source": [
    "#### SVM"
   ]
  },
  {
   "cell_type": "code",
   "execution_count": null,
   "id": "a73b1b53",
   "metadata": {},
   "outputs": [],
   "source": [
    "from sklearn.svm import SVC\n",
    "\n",
    "model_svc = SVC(C=50)\n",
    "\n",
    "model_svc.__dict__"
   ]
  },
  {
   "cell_type": "code",
   "execution_count": null,
   "id": "c0ee3f39",
   "metadata": {},
   "outputs": [],
   "source": [
    "model_svc.fit(data[:891], survived[:891])"
   ]
  },
  {
   "cell_type": "code",
   "execution_count": null,
   "id": "526fe032",
   "metadata": {},
   "outputs": [],
   "source": [
    "model_svc.score(data[:891], survived[:891])"
   ]
  },
  {
   "cell_type": "code",
   "execution_count": null,
   "id": "c45a510a",
   "metadata": {},
   "outputs": [],
   "source": [
    "C = [50, 10, 1.0, 0.1, 0.01]\n",
    "gamma = ['scale']\n",
    "kernel = ['poly', 'rbf', 'sigmoid']\n",
    "\n",
    "svc_dict = {'kernel' : kernel, 'C' : C, 'gamma': gamma}\n",
    "\n",
    "best_hyperparams(model=model_svc, grid_dict=svc_dict, train_data=data[:891], test_data=survived[:891])"
   ]
  },
  {
   "cell_type": "markdown",
   "id": "244c667a",
   "metadata": {},
   "source": [
    "#### Decision Trees"
   ]
  },
  {
   "cell_type": "code",
   "execution_count": null,
   "id": "993f9d96",
   "metadata": {},
   "outputs": [],
   "source": [
    "# Bagged Decision Tree\n",
    "from sklearn.tree  import DecisionTreeClassifier\n",
    "\n",
    "model_dt = DecisionTreeClassifier(criterion = 'gini', max_depth = 25, min_samples_leaf = 3,\n",
    "                             min_samples_split = 5, splitter = 'random')\n",
    "\n",
    "model_dt.__dict__"
   ]
  },
  {
   "cell_type": "code",
   "execution_count": null,
   "id": "9dbca9c8",
   "metadata": {},
   "outputs": [],
   "source": [
    "model_dt.fit(data[:891], survived[:891])"
   ]
  },
  {
   "cell_type": "code",
   "execution_count": null,
   "id": "91002b4f",
   "metadata": {},
   "outputs": [],
   "source": [
    "model_dt.score(data[:891], survived[:891])"
   ]
  },
  {
   "cell_type": "code",
   "execution_count": null,
   "id": "5cc15e71",
   "metadata": {},
   "outputs": [],
   "source": [
    "# data.info()"
   ]
  },
  {
   "cell_type": "code",
   "execution_count": null,
   "id": "efc98b53",
   "metadata": {},
   "outputs": [],
   "source": [
    "# from sklearn import tree\n",
    "\n",
    "# fig, axes = plt.subplots(nrows = 1,ncols = 1,figsize = (100, 100), dpi=50)\n",
    "# features = ['Pclass', 'Sex', 'Age', 'SibSp', 'Parch', 'Embarked', 'Family_Size']\n",
    "# labels = ['0', '1']\n",
    "# #create the tree plot\n",
    "# a = tree.plot_tree(model_dt, feature_names = features, class_names = labels, filled = True, fontsize=20)\n",
    "\n",
    "# #show the plot\n",
    "# fig.savefig('tree.png')"
   ]
  },
  {
   "cell_type": "code",
   "execution_count": null,
   "id": "bd679db7",
   "metadata": {},
   "outputs": [],
   "source": [
    "# from sklearn.tree import export_text\n",
    "# feature_names = ['Pclass', 'Sex', 'Age', 'SibSp', 'Parch', 'Embarked', 'Family_Size']\n",
    "\n",
    "# tree_rules = export_text(model_dt,\n",
    "#                         feature_names = list(feature_names))\n",
    "\n",
    "# print(tree_rules)"
   ]
  },
  {
   "cell_type": "code",
   "execution_count": null,
   "id": "b6fe1d1a",
   "metadata": {},
   "outputs": [],
   "source": [
    "# from sklearn.model_selection import GridSearchCV\n",
    "\n",
    "# tuned_parameters = [{'max_depth': [1,2,3,4,5], \n",
    "#                      'min_samples_split': [2,4,6,8,10]}]\n",
    "\n",
    "# scores = ['recall', 'precision', 'f1']\n",
    "\n",
    "# for score in scores:\n",
    "    \n",
    "#     print()\n",
    "#     print(f\"Tuning hyperparameters for {score}\")\n",
    "#     print()\n",
    "    \n",
    "#     clf = GridSearchCV(\n",
    "#         DecisionTreeClassifier(), tuned_parameters,\n",
    "#         scoring = f'{score}_macro'\n",
    "#     )\n",
    "#     clf.fit(data[:891], survived[:891])\n",
    "    \n",
    "#     print(\"Best parameters set found on development set:\")\n",
    "#     print()\n",
    "#     print(clf.best_params_)\n",
    "#     print()\n",
    "#     print(\"Grid scores on development set:\")\n",
    "#     means = clf.cv_results_[\"mean_test_score\"]\n",
    "#     stds = clf.cv_results_[\"std_test_score\"]\n",
    "#     for mean, std, params in zip(means, stds,\n",
    "#                                  clf.cv_results_['params']):\n",
    "#         print(f\"{mean:0.3f} (+/-{std*2:0.03f}) for {params}\")"
   ]
  },
  {
   "cell_type": "code",
   "execution_count": null,
   "id": "617c5576",
   "metadata": {},
   "outputs": [],
   "source": [
    "# n_estimators = [10, 100, 1000]\n",
    "\n",
    "# grid = dict(n_estimators=n_estimators)\n",
    "# cv = RepeatedStratifiedKFold(n_splits=10, n_repeats=3, random_state=1)\n",
    "# grid_search = GridSearchCV(estimator=model_dt, param_grid=grid, n_jobs=-1, cv=cv, scoring='accuracy',error_score=0)\n",
    "# grid_result = grid_search.fit(data[:891], survived[:891])\n",
    "\n",
    "# # summarize results\n",
    "# print(\"Best: %f using %s\" % (grid_result.best_score_, grid_result.best_params_))\n",
    "# means = grid_result.cv_results_['mean_test_score']\n",
    "# stds = grid_result.cv_results_['std_test_score']\n",
    "# params = grid_result.cv_results_['params']\n",
    "# for mean, stdev, param in zip(means, stds, params):\n",
    "#     print(\"%f (%f) with: %r\" % (mean, stdev, param))\n"
   ]
  },
  {
   "cell_type": "code",
   "execution_count": null,
   "id": "017d8aff",
   "metadata": {},
   "outputs": [],
   "source": [
    "pred_dt = model_dt.predict(data[891:]).astype(int)\n",
    "pred_dt"
   ]
  },
  {
   "cell_type": "markdown",
   "id": "4b42d176",
   "metadata": {},
   "source": [
    "#### Random Forest"
   ]
  },
  {
   "cell_type": "code",
   "execution_count": null,
   "id": "a5fa48c6",
   "metadata": {},
   "outputs": [],
   "source": [
    "from sklearn.ensemble import RandomForestClassifier\n",
    "\n",
    "model_rf = RandomForestClassifier(max_depth=18, random_state=0, n_estimators=10)\n",
    "\n",
    "model_rf.__dict__"
   ]
  },
  {
   "cell_type": "code",
   "execution_count": null,
   "id": "4d3fe880",
   "metadata": {},
   "outputs": [],
   "source": [
    "model_rf.fit(data[:891], survived[:891])"
   ]
  },
  {
   "cell_type": "code",
   "execution_count": null,
   "id": "cecb69b2",
   "metadata": {},
   "outputs": [],
   "source": [
    "model_rf.score(data[:891], survived[:891])"
   ]
  },
  {
   "cell_type": "code",
   "execution_count": null,
   "id": "a71e2322",
   "metadata": {},
   "outputs": [],
   "source": [
    "n_estimators = [10, 100, 1000]\n",
    "max_features = ['sqrt', 'log2']\n",
    "\n",
    "rf_dict = {'n_estimators' : n_estimators, 'max_features' : max_features}\n",
    "\n",
    "best_hyperparams(model=model_rf, grid_dict=rf_dict, train_data=data[:891], test_data=survived[:891])"
   ]
  },
  {
   "cell_type": "code",
   "execution_count": null,
   "id": "e814c54a",
   "metadata": {},
   "outputs": [],
   "source": [
    "pred_rf = model_rf.predict(data[891:]).astype(int)\n",
    "pred_rf"
   ]
  },
  {
   "cell_type": "markdown",
   "id": "4d95e564",
   "metadata": {},
   "source": [
    "#### Stochastic Gradient Boosting Classifier"
   ]
  },
  {
   "cell_type": "code",
   "execution_count": null,
   "id": "6b3a4f8f",
   "metadata": {},
   "outputs": [],
   "source": [
    "from sklearn.ensemble import GradientBoostingClassifier\n",
    "\n",
    "model_sgbc = GradientBoostingClassifier(verbose=1)\n",
    "model_sgbc.__dict__"
   ]
  },
  {
   "cell_type": "code",
   "execution_count": null,
   "id": "4748ac2c",
   "metadata": {},
   "outputs": [],
   "source": [
    "model_sgbc.fit(data[:891], survived[:891])"
   ]
  },
  {
   "cell_type": "code",
   "execution_count": null,
   "id": "21e9a00c",
   "metadata": {},
   "outputs": [],
   "source": [
    "model_sgbc.score(data[:891], survived[:891])"
   ]
  },
  {
   "cell_type": "code",
   "execution_count": null,
   "id": "96ed9b6b",
   "metadata": {},
   "outputs": [],
   "source": [
    "# n_estimators = [10, 100, 1000]\n",
    "# learning_rate = [0.001, 0.01, 0.1]\n",
    "# subsample = [0.5, 0.7, 1.0]\n",
    "# max_depth = [3, 7, 9]\n",
    "\n",
    "# sgbc_dict = {'n_estimators' : n_estimators, 'learning_rate' : learning_rate, 'subsample': subsample, 'max_depth': max_depth}\n",
    "\n",
    "# best_hyperparams(model=model_sgbc, grid_dict=sgbc_dict, train_data=data[:891], test_data=survived[:891])"
   ]
  },
  {
   "cell_type": "code",
   "execution_count": null,
   "id": "d0fed9f0",
   "metadata": {},
   "outputs": [],
   "source": [
    "pred_sgbc = model_sgbc.predict(data[891:]).astype(int)\n",
    "pred_sgbc"
   ]
  },
  {
   "cell_type": "markdown",
   "id": "b5ac957d",
   "metadata": {},
   "source": [
    "## Generate CSV"
   ]
  },
  {
   "cell_type": "code",
   "execution_count": null,
   "id": "fc752f7d",
   "metadata": {},
   "outputs": [],
   "source": [
    "prediction = pd.DataFrame({'PassengerId': p_id[891:], 'Survived': pred_sgbc})"
   ]
  },
  {
   "cell_type": "code",
   "execution_count": null,
   "id": "5d881ad2",
   "metadata": {},
   "outputs": [],
   "source": [
    "prediction.to_csv('final-sgbc.csv', index=False)"
   ]
  },
  {
   "cell_type": "code",
   "execution_count": null,
   "id": "2e7d5964",
   "metadata": {},
   "outputs": [],
   "source": []
  }
 ],
 "metadata": {
  "kernelspec": {
   "display_name": "Python 3",
   "language": "python",
   "name": "python3"
  },
  "language_info": {
   "codemirror_mode": {
    "name": "ipython",
    "version": 3
   },
   "file_extension": ".py",
   "mimetype": "text/x-python",
   "name": "python",
   "nbconvert_exporter": "python",
   "pygments_lexer": "ipython3",
   "version": "3.8.2"
  }
 },
 "nbformat": 4,
 "nbformat_minor": 5
}
